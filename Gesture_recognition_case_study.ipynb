{
 "cells": [
  {
   "cell_type": "markdown",
   "metadata": {
    "id": "91k4J2yDWul1"
   },
   "source": [
    "# Gesture Recognition Case Study"
   ]
  },
  {
   "cell_type": "markdown",
   "metadata": {
    "id": "zdkMdCezW0x7"
   },
   "source": [
    "## <font color=\"blue\"> Introduction:\n",
    "\n",
    "This case study aims at the automatic interpretation of gestures in order to offer new possibilities to interact with machine and to design more natural and more intuitive interactions with computing machines."
   ]
  },
  {
   "cell_type": "markdown",
   "metadata": {
    "id": "AtayWJPUX7cp"
   },
   "source": [
    "## <font color=\"blue\"> Problem Statement:\n",
    "- The company called Home Electronics which manufactures state of art televisions and the company wants to develop a cool feature in the smart-TV that can recognise five gestures performed by the user which will help users control the TV without using the remote.\n",
    "\n",
    "- The gestures are continuously monitered by the webcam mounted on the TV. Each gesture corresponds to a specific command:\n",
    "  1. **Thumbs up**     : Increase the volume \n",
    "  2. **Thumbs down**   : Decrease the volumn\n",
    "  3. **Left swipe**    : Jump backwards 10 seconds\n",
    "  4. **Right swipe**   : Jump forward 10 seconds\n",
    "  5. **Stop**          : Pause the movie"
   ]
  },
  {
   "cell_type": "markdown",
   "metadata": {
    "id": "m0PMS3BGbNdw"
   },
   "source": [
    "## <font color=\"blue\"> Objectives:\n",
    "\n",
    "- We are required to build a gesture recognition model using neural network which should have generators that are able to take batches of data without error and with optimized number of parameters so that the inference or prediction time should be less.\n",
    "- The architecture we are going to use is:\n",
    " 1. 3D Convs\n",
    " 2. CNN + RNN stacked"
   ]
  },
  {
   "cell_type": "markdown",
   "metadata": {
    "id": "suS06MvQeryS"
   },
   "source": [
    "## <font color=\"blue\">Importing Libraries:"
   ]
  },
  {
   "cell_type": "code",
   "execution_count": 1,
   "metadata": {},
   "outputs": [],
   "source": [
    "#pip install scipy==1.1.0"
   ]
  },
  {
   "cell_type": "code",
   "execution_count": 2,
   "metadata": {
    "id": "oer5xSOMe4ma"
   },
   "outputs": [],
   "source": [
    "## Importing all necessary libraries\n",
    "import numpy as np\n",
    "import matplotlib.pyplot as plt\n",
    "import os\n",
    "from scipy.misc import imread, imresize\n",
    "from skimage import io\n",
    "import datetime\n",
    "import random as rn\n",
    "from keras import backend as K\n",
    "from keras import layers\n",
    "import tensorflow as tf\n",
    "\n",
    "from keras.models import Sequential, Model\n",
    "from keras.layers import Dense, GRU, Flatten, TimeDistributed, Flatten, BatchNormalization, Activation, Dropout, Conv2D, MaxPooling2D, LSTM\n",
    "from keras.layers.convolutional import Conv3D, MaxPooling3D\n",
    "from tensorflow.keras.applications.resnet50 import ResNet50\n",
    "from keras.callbacks import ModelCheckpoint, ReduceLROnPlateau\n",
    "from tensorflow.keras.applications import mobilenet\n",
    "from keras import optimizers\n",
    "\n",
    "# Ignoring warnings\n",
    "import warnings\n",
    "warnings.filterwarnings(\"ignore\")"
   ]
  },
  {
   "cell_type": "markdown",
   "metadata": {
    "id": "1p7b4alCeetN"
   },
   "source": [
    "## <font color=\"blue\"> Data Preprocessing:"
   ]
  },
  {
   "cell_type": "markdown",
   "metadata": {
    "id": "YbkrVC5hgdct"
   },
   "source": [
    "**Setting the seed value**:"
   ]
  },
  {
   "cell_type": "code",
   "execution_count": 3,
   "metadata": {
    "id": "3Zk21TXpgxrU"
   },
   "outputs": [],
   "source": [
    "# Setting a seed value for consistency\n",
    "np.random.seed(30)\n",
    "rn.seed(30)\n",
    "tf.random.set_seed(30)"
   ]
  },
  {
   "cell_type": "markdown",
   "metadata": {
    "id": "Jl4oKZH6jtIk"
   },
   "source": [
    "**Reading folder names for training and validation and setting up the batch size**"
   ]
  },
  {
   "cell_type": "code",
   "execution_count": 4,
   "metadata": {
    "id": "nMO_WWlxjsdd"
   },
   "outputs": [],
   "source": [
    "# Reading the folder names for train and val\n",
    "train_doc = np.random.permutation(open(\"datasets/Project_data/train.csv\").readlines())\n",
    "val_doc = np.random.permutation(open(\"datasets/Project_data/val.csv\").readlines())\n",
    "\n",
    "# Setting the batch size\n",
    "batch_size = 42"
   ]
  },
  {
   "cell_type": "markdown",
   "metadata": {
    "id": "CnxwS0LkpOLN"
   },
   "source": [
    "**Creating the generator**"
   ]
  },
  {
   "cell_type": "code",
   "execution_count": 5,
   "metadata": {
    "id": "g2JhKcUWW0UF"
   },
   "outputs": [],
   "source": [
    "# Creating the generator function\n",
    "def generator(source_path, folder_list, batch_size, frames, img_height, img_width):\n",
    "  print(\"source path = \", source_path, \"; batch size = \",batch_size)\n",
    "\n",
    "  # Selecting middle 20 image instances in the overall 30 instances\n",
    "  img_idx = list(np.round(np.linspace(0,29,frames)).astype(int))\n",
    "\n",
    "  while True:\n",
    "    t = np.random.permutation(folder_list)\n",
    "    num_batches = len(t) // batch_size\n",
    "\n",
    "    for batch in range(num_batches):\n",
    "      batch_data = np.zeros((batch_size,len(img_idx),img_height,img_width,3))\n",
    "      batch_labels = np.zeros((batch_size,5))\n",
    "      for folder in range(batch_size):\n",
    "        imgs = os.listdir(source_path+\"/\"+t[folder+ (batch*batch_size)].split(\";\")[0])\n",
    "        for idx,item in enumerate(img_idx):\n",
    "          image = imread(source_path+\"/\"+t[folder + (batch*batch_size)].strip().split(\";\")[0]+\"/\"+imgs[item]).astype(np.float32)\n",
    "         \n",
    "          # Resizing the image to 180*180*3 size \n",
    "          image = imresize(image, (180,180,3))\n",
    "          # Cropping the image to final shape of 140*140*3 size\n",
    "          start_height = int((180-int(img_height))/2)\n",
    "          start_width = int((180-int(img_width))/2)\n",
    "          image = image[start_height:start_height+int(img_height),start_width:start_width+int(img_width),:]\n",
    "\n",
    "          # Normalizing the data\n",
    "          batch_data[folder,idx,:,:,0] = image[:,:,0]/255.\n",
    "          batch_data[folder,idx,:,:,1] = image[:,:,1]/255.\n",
    "          batch_data[folder,idx,:,:,2] = image[:,:,2]/255.\n",
    "\n",
    "        batch_labels[folder, int(t[folder+ (batch*batch_size)].strip().split(\";\")[2])] = 1\n",
    "      yield batch_data, batch_labels\n",
    "\n",
    "    # Writing code for the remaining data points left\n",
    "    remaining_seq = len(t) % batch_size\n",
    "\n",
    "    rem_batch_data = np.zeros((remaining_seq,len(img_idx),img_height,img_width,3))\n",
    "    rem_batch_labels = np.zeros((remaining_seq,5))\n",
    "    for folder_left in range(remaining_seq):\n",
    "      imgs = os.listdir(source_path+\"/\"+t[folder_left + (num_batches*batch_size)].split(\";\")[0])\n",
    "      for idx,item in enumerate(img_idx):\n",
    "        image = imread(source_path+\"/\"+t[folder_left + (num_batches*batch_size)].strip().split(\";\")[0]+\"/\"+imgs[item]).astype(np.float32)\n",
    "       \n",
    "        # Resizing the image to 180*180*3 size\n",
    "        image = imresize(image, (180,180,3))\n",
    "        # Cropping the image to final shape of 140*140*3 size\n",
    "        image = image[start_height:start_height+int(img_height),start_width:start_width+int(img_width),:]\n",
    "\n",
    "        # Normalizing the data\n",
    "        rem_batch_data[folder_left,idx,:,:,0] = image[:,:,0]/255.\n",
    "        rem_batch_data[folder_left,idx,:,:,1] = image[:,:,1]/255.\n",
    "        rem_batch_data[folder_left,idx,:,:,2] = image[:,:,2]/255.\n",
    "\n",
    "      rem_batch_labels[folder_left, int(t[folder_left + (num_batches*batch_size)].strip().split(\";\")[2])] = 1\n",
    "    yield rem_batch_data, rem_batch_labels "
   ]
  },
  {
   "cell_type": "markdown",
   "metadata": {
    "id": "ESCJHiylXXck"
   },
   "source": [
    "**Reading the source path and defining number of epochs and checking the number of training and validation sequences**"
   ]
  },
  {
   "cell_type": "code",
   "execution_count": 6,
   "metadata": {
    "colab": {
     "base_uri": "https://localhost:8080/"
    },
    "id": "lPGuwFUoVpki",
    "outputId": "ddec228e-9a24-4099-b568-289e0fa2417e"
   },
   "outputs": [
    {
     "name": "stdout",
     "output_type": "stream",
     "text": [
      "# training sequences = 663\n",
      "# validation sequences = 100\n",
      "# epochs = 30\n"
     ]
    }
   ],
   "source": [
    "# Creating current date time for checkpoint purpose\n",
    "curr_dt_time = datetime.datetime.now()\n",
    "\n",
    "# Reading the path of the train and val data\n",
    "train_path = \"datasets/Project_data/train\"\n",
    "val_path = \"datasets/Project_data/val\"\n",
    "\n",
    "# Checking the number of training and validation data\n",
    "num_train_sequences = len(train_doc)\n",
    "print('# training sequences =', num_train_sequences)\n",
    "num_val_sequences = len(val_doc)\n",
    "print('# validation sequences =', num_val_sequences)\n",
    "\n",
    "# Defining number of epochs\n",
    "num_epochs = 30\n",
    "print ('# epochs =', num_epochs)"
   ]
  },
  {
   "cell_type": "markdown",
   "metadata": {
    "id": "y3iAecIVX3db"
   },
   "source": [
    "## <font color=\"blue\"> Model Building:"
   ]
  },
  {
   "cell_type": "markdown",
   "metadata": {
    "id": "siFtihyXYOcK"
   },
   "source": [
    "### **3D Convs Architecture**:"
   ]
  },
  {
   "cell_type": "markdown",
   "metadata": {
    "id": "xbrzIAPtolox"
   },
   "source": [
    "**Buiding the model**"
   ]
  },
  {
   "cell_type": "code",
   "execution_count": 7,
   "metadata": {
    "id": "Y_-JdtXymbNZ"
   },
   "outputs": [
    {
     "name": "stderr",
     "output_type": "stream",
     "text": [
      "2022-06-15 14:54:45.098933: W tensorflow/core/common_runtime/gpu/gpu_bfc_allocator.cc:39] Overriding allow_growth setting because the TF_FORCE_GPU_ALLOW_GROWTH environment variable is set. Original config value was 0.\n",
      "2022-06-15 14:54:45.098990: I tensorflow/core/common_runtime/gpu/gpu_device.cc:1525] Created device /job:localhost/replica:0/task:0/device:GPU:0 with 14803 MB memory:  -> device: 0, name: Quadro RTX 5000, pci bus id: 0000:3f:00.0, compute capability: 7.5\n"
     ]
    }
   ],
   "source": [
    "# Building 3d Convs network\n",
    "num_classes = 5\n",
    "frames = 20\n",
    "img_height=120\n",
    "img_width = 120\n",
    "\n",
    "# Adding layers to the network\n",
    "model = Sequential([\n",
    "                    layers.Conv3D(32, (3,3,3), input_shape=(frames,img_height,img_width,3),padding=\"same\"),\n",
    "                    layers.Activation(\"relu\"),\n",
    "                    layers.MaxPooling3D(pool_size=(2,2,2)),\n",
    "                    layers.Conv3D(32, (3,3,3), padding=\"same\"),\n",
    "                    layers.Activation(\"relu\"),\n",
    "                    layers.MaxPooling3D(pool_size=(2,2,2)),\n",
    "                    layers.Conv3D(64, (3,3,3), padding=\"same\"),\n",
    "                    layers.Activation(\"relu\"),\n",
    "                    layers.MaxPooling3D(pool_size=(2,2,2)),\n",
    "                    layers.Dropout(0.25),\n",
    "\n",
    "                    layers.Flatten(),\n",
    "                    layers.Dense(64, activation=\"relu\"),\n",
    "                    layers.Dense(num_classes, activation=\"softmax\")\n",
    "])"
   ]
  },
  {
   "cell_type": "markdown",
   "metadata": {
    "id": "9vHQOvTYoubH"
   },
   "source": [
    "**Compiling and checking the summary of the model**"
   ]
  },
  {
   "cell_type": "code",
   "execution_count": 8,
   "metadata": {
    "colab": {
     "base_uri": "https://localhost:8080/"
    },
    "id": "J6nZv3tkVpYO",
    "outputId": "24e1de97-e6c7-4713-b0f7-781d2c6d218f"
   },
   "outputs": [
    {
     "name": "stdout",
     "output_type": "stream",
     "text": [
      "Model: \"sequential\"\n",
      "_________________________________________________________________\n",
      " Layer (type)                Output Shape              Param #   \n",
      "=================================================================\n",
      " conv3d (Conv3D)             (None, 20, 120, 120, 32)  2624      \n",
      "                                                                 \n",
      " activation (Activation)     (None, 20, 120, 120, 32)  0         \n",
      "                                                                 \n",
      " max_pooling3d (MaxPooling3D  (None, 10, 60, 60, 32)   0         \n",
      " )                                                               \n",
      "                                                                 \n",
      " conv3d_1 (Conv3D)           (None, 10, 60, 60, 32)    27680     \n",
      "                                                                 \n",
      " activation_1 (Activation)   (None, 10, 60, 60, 32)    0         \n",
      "                                                                 \n",
      " max_pooling3d_1 (MaxPooling  (None, 5, 30, 30, 32)    0         \n",
      " 3D)                                                             \n",
      "                                                                 \n",
      " conv3d_2 (Conv3D)           (None, 5, 30, 30, 64)     55360     \n",
      "                                                                 \n",
      " activation_2 (Activation)   (None, 5, 30, 30, 64)     0         \n",
      "                                                                 \n",
      " max_pooling3d_2 (MaxPooling  (None, 2, 15, 15, 64)    0         \n",
      " 3D)                                                             \n",
      "                                                                 \n",
      " dropout (Dropout)           (None, 2, 15, 15, 64)     0         \n",
      "                                                                 \n",
      " flatten (Flatten)           (None, 28800)             0         \n",
      "                                                                 \n",
      " dense (Dense)               (None, 64)                1843264   \n",
      "                                                                 \n",
      " dense_1 (Dense)             (None, 5)                 325       \n",
      "                                                                 \n",
      "=================================================================\n",
      "Total params: 1,929,253\n",
      "Trainable params: 1,929,253\n",
      "Non-trainable params: 0\n",
      "_________________________________________________________________\n",
      "None\n"
     ]
    }
   ],
   "source": [
    "# Choosing the optimizer\n",
    "optimiser = \"Adam\"\n",
    "\n",
    "# Compiling the model\n",
    "model.compile(optimizer=optimiser, loss='categorical_crossentropy', metrics=['categorical_accuracy'])\n",
    "\n",
    "# Printing the summary\n",
    "print (model.summary())"
   ]
  },
  {
   "cell_type": "markdown",
   "metadata": {
    "id": "szdi1uBOpXsd"
   },
   "source": [
    "**Creating train and val generator**"
   ]
  },
  {
   "cell_type": "code",
   "execution_count": 9,
   "metadata": {
    "id": "7q66B3PqVpVu"
   },
   "outputs": [],
   "source": [
    "# Creating train and validation generator\n",
    "batch_size=42\n",
    "frames = 20\n",
    "img_height = 140\n",
    "img_width = 140\n",
    "train_generator = generator(train_path, train_doc, batch_size,frames, img_height, img_width)\n",
    "val_generator = generator(val_path, val_doc, batch_size, frames, img_height, img_width)"
   ]
  },
  {
   "cell_type": "markdown",
   "metadata": {
    "id": "3YTHXJQtulAz"
   },
   "source": [
    "**Creating Callbacks**"
   ]
  },
  {
   "cell_type": "code",
   "execution_count": 10,
   "metadata": {
    "id": "RMLa0bXwppzK"
   },
   "outputs": [
    {
     "name": "stdout",
     "output_type": "stream",
     "text": [
      "WARNING:tensorflow:`period` argument is deprecated. Please use `save_freq` to specify the frequency in number of batches seen.\n"
     ]
    }
   ],
   "source": [
    "# Creating model name\n",
    "curr_dt_time = datetime.datetime.now()\n",
    "model_name = \"model_init\" + \"_\" + str(curr_dt_time).replace(\" \",\"\").replace(\":\",\"_\") + '/'\n",
    "\n",
    "if not os.path.exists(model_name):\n",
    "  os.mkdir(model_name)\n",
    "\n",
    "filepath = model_name + \"model-{epoch:05d}-{loss:.5f}-{categorical_accuracy:.5f}-{val_loss:.5f}-{val_categorical_accuracy:.5f}.h5\"\n",
    "\n",
    "# Creating checkpoint\n",
    "checkpoint = ModelCheckpoint(filepath, moniter=\"val_loss\", verbose=1, save_best_only=False, save_weights_only=False, mode=\"auto\",period=1)\n",
    "\n",
    "# Defining the learning rate\n",
    "LR = ReduceLROnPlateau(monitor='val_loss', factor=0.2, verbose=1, patience=4)\n",
    "callbacks_list = [checkpoint, LR]"
   ]
  },
  {
   "cell_type": "markdown",
   "metadata": {
    "id": "dzl6wkjvuqrl"
   },
   "source": [
    "**Assigning steps per epoch**"
   ]
  },
  {
   "cell_type": "code",
   "execution_count": 11,
   "metadata": {
    "id": "L_eXkTB-sUkj"
   },
   "outputs": [],
   "source": [
    "# For training data\n",
    "if (num_train_sequences%batch_size) == 0:\n",
    "    steps_per_epoch = int(num_train_sequences/batch_size)\n",
    "else:\n",
    "    steps_per_epoch = (num_train_sequences//batch_size) + 1\n",
    "\n",
    "# for validation data\n",
    "if (num_val_sequences%batch_size) == 0:\n",
    "    validation_steps = int(num_val_sequences/batch_size)\n",
    "else:\n",
    "    validation_steps = (num_val_sequences//batch_size) + 1"
   ]
  },
  {
   "cell_type": "markdown",
   "metadata": {
    "id": "YIdu-b5su-nb"
   },
   "source": [
    "**Fitting the model**"
   ]
  },
  {
   "cell_type": "code",
   "execution_count": 31,
   "metadata": {
    "colab": {
     "base_uri": "https://localhost:8080/",
     "height": 363
    },
    "id": "wTqtokYzu-D7",
    "outputId": "788a4c0c-78d8-4025-eda0-e766dd8f5806"
   },
   "outputs": [
    {
     "name": "stdout",
     "output_type": "stream",
     "text": [
      "source path =  datasets/Project_data/train ; batch size =  42\n",
      "Epoch 1/20\n"
     ]
    },
    {
     "name": "stderr",
     "output_type": "stream",
     "text": [
      "2022-06-15 11:21:27.434986: I tensorflow/stream_executor/cuda/cuda_dnn.cc:377] Loaded cuDNN version 8302\n"
     ]
    },
    {
     "name": "stdout",
     "output_type": "stream",
     "text": [
      "16/16 [==============================] - ETA: 0s - loss: 1.7472 - categorical_accuracy: 0.1961source path =  datasets/Project_data/val ; batch size =  42\n",
      "\n",
      "Epoch 00001: saving model to model_init_2022-06-1511_21_17.673150/model-00001-1.74716-0.19608-1.57711-0.20000.h5\n",
      "16/16 [==============================] - 85s 5s/step - loss: 1.7472 - categorical_accuracy: 0.1961 - val_loss: 1.5771 - val_categorical_accuracy: 0.2000 - lr: 0.0010\n",
      "Epoch 2/20\n",
      "16/16 [==============================] - ETA: 0s - loss: 1.5364 - categorical_accuracy: 0.3107\n",
      "Epoch 00002: saving model to model_init_2022-06-1511_21_17.673150/model-00002-1.53644-0.31071-1.34837-0.37000.h5\n",
      "16/16 [==============================] - 72s 5s/step - loss: 1.5364 - categorical_accuracy: 0.3107 - val_loss: 1.3484 - val_categorical_accuracy: 0.3700 - lr: 0.0010\n",
      "Epoch 3/20\n",
      "16/16 [==============================] - ETA: 0s - loss: 1.1648 - categorical_accuracy: 0.5339\n",
      "Epoch 00003: saving model to model_init_2022-06-1511_21_17.673150/model-00003-1.16482-0.53394-1.09616-0.58000.h5\n",
      "16/16 [==============================] - 68s 5s/step - loss: 1.1648 - categorical_accuracy: 0.5339 - val_loss: 1.0962 - val_categorical_accuracy: 0.5800 - lr: 0.0010\n",
      "Epoch 4/20\n",
      "16/16 [==============================] - ETA: 0s - loss: 0.8791 - categorical_accuracy: 0.6742\n",
      "Epoch 00004: saving model to model_init_2022-06-1511_21_17.673150/model-00004-0.87906-0.67421-0.93331-0.61000.h5\n",
      "16/16 [==============================] - 71s 5s/step - loss: 0.8791 - categorical_accuracy: 0.6742 - val_loss: 0.9333 - val_categorical_accuracy: 0.6100 - lr: 0.0010\n",
      "Epoch 5/20\n",
      "16/16 [==============================] - ETA: 0s - loss: 0.7250 - categorical_accuracy: 0.7270\n",
      "Epoch 00005: saving model to model_init_2022-06-1511_21_17.673150/model-00005-0.72498-0.72700-0.74876-0.75000.h5\n",
      "16/16 [==============================] - 73s 5s/step - loss: 0.7250 - categorical_accuracy: 0.7270 - val_loss: 0.7488 - val_categorical_accuracy: 0.7500 - lr: 0.0010\n",
      "Epoch 6/20\n",
      "16/16 [==============================] - ETA: 0s - loss: 0.6001 - categorical_accuracy: 0.7587\n",
      "Epoch 00006: saving model to model_init_2022-06-1511_21_17.673150/model-00006-0.60013-0.75867-0.93253-0.70000.h5\n",
      "16/16 [==============================] - 69s 5s/step - loss: 0.6001 - categorical_accuracy: 0.7587 - val_loss: 0.9325 - val_categorical_accuracy: 0.7000 - lr: 0.0010\n",
      "Epoch 7/20\n",
      "16/16 [==============================] - ETA: 0s - loss: 0.4543 - categorical_accuracy: 0.8190\n",
      "Epoch 00007: saving model to model_init_2022-06-1511_21_17.673150/model-00007-0.45426-0.81900-1.18857-0.71000.h5\n",
      "16/16 [==============================] - 72s 5s/step - loss: 0.4543 - categorical_accuracy: 0.8190 - val_loss: 1.1886 - val_categorical_accuracy: 0.7100 - lr: 0.0010\n",
      "Epoch 8/20\n",
      "16/16 [==============================] - ETA: 0s - loss: 0.2950 - categorical_accuracy: 0.8854\n",
      "Epoch 00008: saving model to model_init_2022-06-1511_21_17.673150/model-00008-0.29496-0.88537-1.39247-0.68000.h5\n",
      "16/16 [==============================] - 72s 5s/step - loss: 0.2950 - categorical_accuracy: 0.8854 - val_loss: 1.3925 - val_categorical_accuracy: 0.6800 - lr: 0.0010\n",
      "Epoch 9/20\n",
      "16/16 [==============================] - ETA: 0s - loss: 0.2209 - categorical_accuracy: 0.9186\n",
      "Epoch 00009: saving model to model_init_2022-06-1511_21_17.673150/model-00009-0.22086-0.91855-1.66675-0.59000.h5\n",
      "\n",
      "Epoch 00009: ReduceLROnPlateau reducing learning rate to 0.00020000000949949026.\n",
      "16/16 [==============================] - 69s 5s/step - loss: 0.2209 - categorical_accuracy: 0.9186 - val_loss: 1.6667 - val_categorical_accuracy: 0.5900 - lr: 0.0010\n",
      "Epoch 10/20\n",
      "16/16 [==============================] - ETA: 0s - loss: 0.1443 - categorical_accuracy: 0.9502\n",
      "Epoch 00010: saving model to model_init_2022-06-1511_21_17.673150/model-00010-0.14426-0.95023-1.13545-0.75000.h5\n",
      "16/16 [==============================] - 63s 4s/step - loss: 0.1443 - categorical_accuracy: 0.9502 - val_loss: 1.1355 - val_categorical_accuracy: 0.7500 - lr: 2.0000e-04\n",
      "Epoch 11/20\n",
      "16/16 [==============================] - ETA: 0s - loss: 0.0922 - categorical_accuracy: 0.9744\n",
      "Epoch 00011: saving model to model_init_2022-06-1511_21_17.673150/model-00011-0.09220-0.97436-0.91489-0.77000.h5\n",
      "16/16 [==============================] - 61s 4s/step - loss: 0.0922 - categorical_accuracy: 0.9744 - val_loss: 0.9149 - val_categorical_accuracy: 0.7700 - lr: 2.0000e-04\n",
      "Epoch 12/20\n",
      "16/16 [==============================] - ETA: 0s - loss: 0.0639 - categorical_accuracy: 0.9804\n",
      "Epoch 00012: saving model to model_init_2022-06-1511_21_17.673150/model-00012-0.06392-0.98039-1.38891-0.73000.h5\n",
      "16/16 [==============================] - 58s 4s/step - loss: 0.0639 - categorical_accuracy: 0.9804 - val_loss: 1.3889 - val_categorical_accuracy: 0.7300 - lr: 2.0000e-04\n",
      "Epoch 13/20\n",
      "16/16 [==============================] - ETA: 0s - loss: 0.0515 - categorical_accuracy: 0.9864\n",
      "Epoch 00013: saving model to model_init_2022-06-1511_21_17.673150/model-00013-0.05151-0.98643-1.33039-0.74000.h5\n",
      "\n",
      "Epoch 00013: ReduceLROnPlateau reducing learning rate to 4.0000001899898055e-05.\n",
      "16/16 [==============================] - 60s 4s/step - loss: 0.0515 - categorical_accuracy: 0.9864 - val_loss: 1.3304 - val_categorical_accuracy: 0.7400 - lr: 2.0000e-04\n",
      "Epoch 14/20\n",
      "16/16 [==============================] - ETA: 0s - loss: 0.0442 - categorical_accuracy: 0.9864\n",
      "Epoch 00014: saving model to model_init_2022-06-1511_21_17.673150/model-00014-0.04422-0.98643-1.21658-0.72000.h5\n",
      "16/16 [==============================] - 62s 4s/step - loss: 0.0442 - categorical_accuracy: 0.9864 - val_loss: 1.2166 - val_categorical_accuracy: 0.7200 - lr: 4.0000e-05\n",
      "Epoch 15/20\n",
      "16/16 [==============================] - ETA: 0s - loss: 0.0418 - categorical_accuracy: 0.9910\n",
      "Epoch 00015: saving model to model_init_2022-06-1511_21_17.673150/model-00015-0.04184-0.99095-1.57588-0.66000.h5\n",
      "16/16 [==============================] - 58s 4s/step - loss: 0.0418 - categorical_accuracy: 0.9910 - val_loss: 1.5759 - val_categorical_accuracy: 0.6600 - lr: 4.0000e-05\n",
      "Epoch 16/20\n",
      "16/16 [==============================] - ETA: 0s - loss: 0.0385 - categorical_accuracy: 0.9940\n",
      "Epoch 00016: saving model to model_init_2022-06-1511_21_17.673150/model-00016-0.03845-0.99397-1.32946-0.74000.h5\n",
      "16/16 [==============================] - 61s 4s/step - loss: 0.0385 - categorical_accuracy: 0.9940 - val_loss: 1.3295 - val_categorical_accuracy: 0.7400 - lr: 4.0000e-05\n",
      "Epoch 17/20\n",
      "16/16 [==============================] - ETA: 0s - loss: 0.0405 - categorical_accuracy: 0.9910\n",
      "Epoch 00017: saving model to model_init_2022-06-1511_21_17.673150/model-00017-0.04046-0.99095-1.72628-0.66000.h5\n",
      "\n",
      "Epoch 00017: ReduceLROnPlateau reducing learning rate to 8.000000525498762e-06.\n",
      "16/16 [==============================] - 63s 4s/step - loss: 0.0405 - categorical_accuracy: 0.9910 - val_loss: 1.7263 - val_categorical_accuracy: 0.6600 - lr: 4.0000e-05\n",
      "Epoch 18/20\n",
      "16/16 [==============================] - ETA: 0s - loss: 0.0371 - categorical_accuracy: 0.9940\n",
      "Epoch 00018: saving model to model_init_2022-06-1511_21_17.673150/model-00018-0.03711-0.99397-1.35449-0.72000.h5\n",
      "16/16 [==============================] - 60s 4s/step - loss: 0.0371 - categorical_accuracy: 0.9940 - val_loss: 1.3545 - val_categorical_accuracy: 0.7200 - lr: 8.0000e-06\n",
      "Epoch 19/20\n",
      "16/16 [==============================] - ETA: 0s - loss: 0.0351 - categorical_accuracy: 0.9940\n",
      "Epoch 00019: saving model to model_init_2022-06-1511_21_17.673150/model-00019-0.03515-0.99397-1.35453-0.71000.h5\n",
      "16/16 [==============================] - 61s 4s/step - loss: 0.0351 - categorical_accuracy: 0.9940 - val_loss: 1.3545 - val_categorical_accuracy: 0.7100 - lr: 8.0000e-06\n",
      "Epoch 20/20\n",
      "16/16 [==============================] - ETA: 0s - loss: 0.0353 - categorical_accuracy: 0.9955\n",
      "Epoch 00020: saving model to model_init_2022-06-1511_21_17.673150/model-00020-0.03531-0.99548-1.38091-0.74000.h5\n",
      "16/16 [==============================] - 63s 4s/step - loss: 0.0353 - categorical_accuracy: 0.9955 - val_loss: 1.3809 - val_categorical_accuracy: 0.7400 - lr: 8.0000e-06\n"
     ]
    },
    {
     "data": {
      "text/plain": [
       "<keras.callbacks.History at 0x7f8dfc078e50>"
      ]
     },
     "execution_count": 31,
     "metadata": {},
     "output_type": "execute_result"
    }
   ],
   "source": [
    "# fitting the model\n",
    "model.fit_generator(train_generator, steps_per_epoch=steps_per_epoch, epochs=20, verbose=1,\n",
    "                    callbacks=callbacks_list, validation_data=val_generator,\n",
    "                    validation_steps=validation_steps, class_weight=None, workers=1, initial_epoch=0)"
   ]
  },
  {
   "cell_type": "code",
   "execution_count": 12,
   "metadata": {
    "id": "4HUjVHxLpphV"
   },
   "outputs": [],
   "source": [
    "# Creating a function for plotting training and validation loss\n",
    "def plot(model_name):\n",
    "    fig,axes = plt.subplots(nrows=1, ncols=2, figsize=(15,4))\n",
    "    axes[0].plot(model_name.history[\"loss\"])\n",
    "    axes[0].plot(model_name.history[\"val_loss\"])\n",
    "    axes[0].legend([\"loss\",\"val_loss\"])\n",
    "    \n",
    "    axes[1].plot(model_name.history[\"categorical_accuracy\"])\n",
    "    axes[1].plot(model_name.history[\"val_categorical_accuracy\"])\n",
    "    axes[1].legend([\"categorical_accuracy\", \"val_categorical_accuracy\"])"
   ]
  },
  {
   "cell_type": "code",
   "execution_count": 15,
   "metadata": {
    "id": "gpvnacytVpKJ"
   },
   "outputs": [
    {
     "data": {
      "image/png": "[encoded data removed]",
      "text/plain": [
       "<Figure size 1080x288 with 2 Axes>"
      ]
     },
     "metadata": {
      "needs_background": "light"
     },
     "output_type": "display_data"
    }
   ],
   "source": [
    "# Plotting the model history\n",
    "plot(model.history)"
   ]
  },
  {
   "cell_type": "code",
   "execution_count": 26,
   "metadata": {},
   "outputs": [],
   "source": [
    "# Adding batch normalization layers\n",
    "model_2 = Sequential([\n",
    "                    layers.Conv3D(32, (3,3,3), input_shape=(frames,img_height,img_width,3),padding=\"same\", activation=\"relu\"),             \n",
    "                    layers.MaxPooling3D(pool_size=(2,2,2)),\n",
    "                    \n",
    "                    layers.Conv3D(32, (3,3,3), padding=\"same\", activation=\"relu\"),\n",
    "                    layers.MaxPooling3D(pool_size=(2,2,2)),\n",
    "                    \n",
    "                    layers.Conv3D(64, (3,3,3), padding=\"same\", activation=\"relu\"),\n",
    "                    layers.MaxPooling3D(pool_size=(2,2,2)),\n",
    "                    layers.Dropout(0.5),\n",
    "\n",
    "                    layers.Flatten(),\n",
    "                    layers.Dense(64, activation=\"relu\"),\n",
    "                    layers.BatchNormalization(),\n",
    "                    layers.Dense(num_classes, activation=\"softmax\")\n",
    "])"
   ]
  },
  {
   "cell_type": "code",
   "execution_count": 27,
   "metadata": {},
   "outputs": [
    {
     "name": "stdout",
     "output_type": "stream",
     "text": [
      "Model: \"sequential_3\"\n",
      "_________________________________________________________________\n",
      " Layer (type)                Output Shape              Param #   \n",
      "=================================================================\n",
      " conv3d_9 (Conv3D)           (None, 20, 140, 140, 32)  2624      \n",
      "                                                                 \n",
      " max_pooling3d_9 (MaxPooling  (None, 10, 70, 70, 32)   0         \n",
      " 3D)                                                             \n",
      "                                                                 \n",
      " conv3d_10 (Conv3D)          (None, 10, 70, 70, 32)    27680     \n",
      "                                                                 \n",
      " max_pooling3d_10 (MaxPoolin  (None, 5, 35, 35, 32)    0         \n",
      " g3D)                                                            \n",
      "                                                                 \n",
      " conv3d_11 (Conv3D)          (None, 5, 35, 35, 64)     55360     \n",
      "                                                                 \n",
      " max_pooling3d_11 (MaxPoolin  (None, 2, 17, 17, 64)    0         \n",
      " g3D)                                                            \n",
      "                                                                 \n",
      " dropout_3 (Dropout)         (None, 2, 17, 17, 64)     0         \n",
      "                                                                 \n",
      " flatten_3 (Flatten)         (None, 36992)             0         \n",
      "                                                                 \n",
      " dense_6 (Dense)             (None, 64)                2367552   \n",
      "                                                                 \n",
      " batch_normalization_7 (Batc  (None, 64)               256       \n",
      " hNormalization)                                                 \n",
      "                                                                 \n",
      " dense_7 (Dense)             (None, 5)                 325       \n",
      "                                                                 \n",
      "=================================================================\n",
      "Total params: 2,453,797\n",
      "Trainable params: 2,453,669\n",
      "Non-trainable params: 128\n",
      "_________________________________________________________________\n"
     ]
    }
   ],
   "source": [
    "# Checking the summary\n",
    "model_2.summary()"
   ]
  },
  {
   "cell_type": "code",
   "execution_count": 28,
   "metadata": {},
   "outputs": [],
   "source": [
    "# Compiling the model\n",
    "model_2.compile(optimizer=optimiser, loss='categorical_crossentropy', metrics=['categorical_accuracy'])"
   ]
  },
  {
   "cell_type": "code",
   "execution_count": 29,
   "metadata": {},
   "outputs": [
    {
     "name": "stdout",
     "output_type": "stream",
     "text": [
      "Epoch 1/10\n",
      "16/16 [==============================] - ETA: 0s - loss: 1.4083 - categorical_accuracy: 0.4404\n",
      "Epoch 00001: saving model to model_init_2022-06-1507_38_33.814701/model-00001-1.40834-0.44042-3.58308-0.29000.h5\n",
      "16/16 [==============================] - 62s 4s/step - loss: 1.4083 - categorical_accuracy: 0.4404 - val_loss: 3.5831 - val_categorical_accuracy: 0.2900 - lr: 0.0010\n",
      "Epoch 2/10\n",
      "16/16 [==============================] - ETA: 0s - loss: 0.9085 - categorical_accuracy: 0.6667\n",
      "Epoch 00002: saving model to model_init_2022-06-1507_38_33.814701/model-00002-0.90854-0.66667-3.38186-0.31000.h5\n",
      "16/16 [==============================] - 62s 4s/step - loss: 0.9085 - categorical_accuracy: 0.6667 - val_loss: 3.3819 - val_categorical_accuracy: 0.3100 - lr: 0.0010\n",
      "Epoch 3/10\n",
      "16/16 [==============================] - ETA: 0s - loss: 0.6561 - categorical_accuracy: 0.7858\n",
      "Epoch 00003: saving model to model_init_2022-06-1507_38_33.814701/model-00003-0.65609-0.78582-1.51093-0.44000.h5\n",
      "16/16 [==============================] - 58s 4s/step - loss: 0.6561 - categorical_accuracy: 0.7858 - val_loss: 1.5109 - val_categorical_accuracy: 0.4400 - lr: 0.0010\n",
      "Epoch 4/10\n",
      "16/16 [==============================] - ETA: 0s - loss: 0.4866 - categorical_accuracy: 0.8462\n",
      "Epoch 00004: saving model to model_init_2022-06-1507_38_33.814701/model-00004-0.48657-0.84615-1.08088-0.47000.h5\n",
      "16/16 [==============================] - 60s 4s/step - loss: 0.4866 - categorical_accuracy: 0.8462 - val_loss: 1.0809 - val_categorical_accuracy: 0.4700 - lr: 0.0010\n",
      "Epoch 5/10\n",
      "16/16 [==============================] - ETA: 0s - loss: 0.3325 - categorical_accuracy: 0.9005\n",
      "Epoch 00005: saving model to model_init_2022-06-1507_38_33.814701/model-00005-0.33254-0.90045-0.80983-0.78000.h5\n",
      "16/16 [==============================] - 63s 4s/step - loss: 0.3325 - categorical_accuracy: 0.9005 - val_loss: 0.8098 - val_categorical_accuracy: 0.7800 - lr: 0.0010\n",
      "Epoch 6/10\n",
      "16/16 [==============================] - ETA: 0s - loss: 0.2698 - categorical_accuracy: 0.9246\n",
      "Epoch 00006: saving model to model_init_2022-06-1507_38_33.814701/model-00006-0.26979-0.92459-0.66561-0.77000.h5\n",
      "16/16 [==============================] - 62s 4s/step - loss: 0.2698 - categorical_accuracy: 0.9246 - val_loss: 0.6656 - val_categorical_accuracy: 0.7700 - lr: 0.0010\n",
      "Epoch 7/10\n",
      "16/16 [==============================] - ETA: 0s - loss: 0.1929 - categorical_accuracy: 0.9608\n",
      "Epoch 00007: saving model to model_init_2022-06-1507_38_33.814701/model-00007-0.19293-0.96078-0.83657-0.68000.h5\n",
      "16/16 [==============================] - 62s 4s/step - loss: 0.1929 - categorical_accuracy: 0.9608 - val_loss: 0.8366 - val_categorical_accuracy: 0.6800 - lr: 0.0010\n",
      "Epoch 8/10\n",
      "16/16 [==============================] - ETA: 0s - loss: 0.1486 - categorical_accuracy: 0.9804\n",
      "Epoch 00008: saving model to model_init_2022-06-1507_38_33.814701/model-00008-0.14859-0.98039-1.22738-0.52000.h5\n",
      "16/16 [==============================] - 63s 4s/step - loss: 0.1486 - categorical_accuracy: 0.9804 - val_loss: 1.2274 - val_categorical_accuracy: 0.5200 - lr: 0.0010\n",
      "Epoch 9/10\n",
      "16/16 [==============================] - ETA: 0s - loss: 0.1163 - categorical_accuracy: 0.9864\n",
      "Epoch 00009: saving model to model_init_2022-06-1507_38_33.814701/model-00009-0.11635-0.98643-0.76022-0.74000.h5\n",
      "16/16 [==============================] - 61s 4s/step - loss: 0.1163 - categorical_accuracy: 0.9864 - val_loss: 0.7602 - val_categorical_accuracy: 0.7400 - lr: 0.0010\n",
      "Epoch 10/10\n",
      "16/16 [==============================] - ETA: 0s - loss: 0.0817 - categorical_accuracy: 0.9910\n",
      "Epoch 00010: saving model to model_init_2022-06-1507_38_33.814701/model-00010-0.08171-0.99095-0.88971-0.66000.h5\n",
      "\n",
      "Epoch 00010: ReduceLROnPlateau reducing learning rate to 0.00020000000949949026.\n",
      "16/16 [==============================] - 64s 4s/step - loss: 0.0817 - categorical_accuracy: 0.9910 - val_loss: 0.8897 - val_categorical_accuracy: 0.6600 - lr: 0.0010\n"
     ]
    },
    {
     "data": {
      "text/plain": [
       "<keras.callbacks.History at 0x7f3c7c79a040>"
      ]
     },
     "execution_count": 29,
     "metadata": {},
     "output_type": "execute_result"
    }
   ],
   "source": [
    "# fitting the model\n",
    "model_2.fit_generator(train_generator, steps_per_epoch=steps_per_epoch, epochs=10, verbose=1,\n",
    "                    callbacks=callbacks_list, validation_data=val_generator,\n",
    "                    validation_steps=validation_steps, class_weight=None, workers=1, initial_epoch=0)"
   ]
  },
  {
   "cell_type": "code",
   "execution_count": 30,
   "metadata": {},
   "outputs": [
    {
     "data": {
      "image/png": "[encoded data removed]",
      "text/plain": [
       "<Figure size 1080x288 with 2 Axes>"
      ]
     },
     "metadata": {
      "needs_background": "light"
     },
     "output_type": "display_data"
    }
   ],
   "source": [
    "# Plotting the model history\n",
    "plot(model_2.history)"
   ]
  },
  {
   "cell_type": "code",
   "execution_count": 32,
   "metadata": {},
   "outputs": [],
   "source": [
    "# Building third model with less learning rate\n",
    "model_3 = Sequential([\n",
    "                    layers.Conv3D(32, (3,3,3), input_shape=(frames,img_height,img_width,3),padding=\"same\", activation=\"relu\"),             \n",
    "                    layers.MaxPooling3D(pool_size=(2,2,2)),\n",
    "                    \n",
    "                    layers.Conv3D(32, (3,3,3), padding=\"same\", activation=\"relu\"),\n",
    "                    layers.MaxPooling3D(pool_size=(2,2,2)),\n",
    "                    \n",
    "                    layers.Conv3D(64, (3,3,3), padding=\"same\", activation=\"relu\"),\n",
    "                    layers.MaxPooling3D(pool_size=(2,2,2)),\n",
    "                    layers.Dropout(0.5),\n",
    "\n",
    "                    layers.Flatten(),\n",
    "                    layers.Dense(64, activation=\"relu\"),\n",
    "                    layers.BatchNormalization(),\n",
    "                    layers.Dense(num_classes, activation=\"softmax\")\n",
    "])"
   ]
  },
  {
   "cell_type": "code",
   "execution_count": 47,
   "metadata": {},
   "outputs": [],
   "source": [
    "# Compiling the model\n",
    "K.set_value(model_3.optimizer.learning_rate, 0.0005) \n",
    "model_3.compile(optimizer=optimiser, loss='categorical_crossentropy', metrics=['categorical_accuracy'])"
   ]
  },
  {
   "cell_type": "code",
   "execution_count": 49,
   "metadata": {},
   "outputs": [
    {
     "name": "stdout",
     "output_type": "stream",
     "text": [
      "Epoch 1/10\n",
      "16/16 [==============================] - ETA: 0s - loss: 1.4528 - categorical_accuracy: 0.4133\n",
      "Epoch 00001: saving model to model_init_2022-06-1508_12_06.373935/model-00001-1.45278-0.41327-1.68866-0.21000.h5\n",
      "16/16 [==============================] - 66s 4s/step - loss: 1.4528 - categorical_accuracy: 0.4133 - val_loss: 1.6887 - val_categorical_accuracy: 0.2100 - lr: 5.0000e-04\n",
      "Epoch 2/10\n",
      "16/16 [==============================] - ETA: 0s - loss: 0.9706 - categorical_accuracy: 0.6410\n",
      "Epoch 00002: saving model to model_init_2022-06-1508_12_06.373935/model-00002-0.97060-0.64103-1.54929-0.27000.h5\n",
      "16/16 [==============================] - 62s 4s/step - loss: 0.9706 - categorical_accuracy: 0.6410 - val_loss: 1.5493 - val_categorical_accuracy: 0.2700 - lr: 5.0000e-04\n",
      "Epoch 3/10\n",
      "16/16 [==============================] - ETA: 0s - loss: 0.6853 - categorical_accuracy: 0.7783\n",
      "Epoch 00003: saving model to model_init_2022-06-1508_12_06.373935/model-00003-0.68531-0.77828-1.34887-0.42000.h5\n",
      "16/16 [==============================] - 66s 4s/step - loss: 0.6853 - categorical_accuracy: 0.7783 - val_loss: 1.3489 - val_categorical_accuracy: 0.4200 - lr: 5.0000e-04\n",
      "Epoch 4/10\n",
      "16/16 [==============================] - ETA: 0s - loss: 0.4900 - categorical_accuracy: 0.8688\n",
      "Epoch 00004: saving model to model_init_2022-06-1508_12_06.373935/model-00004-0.49002-0.86878-1.25969-0.65000.h5\n",
      "16/16 [==============================] - 66s 4s/step - loss: 0.4900 - categorical_accuracy: 0.8688 - val_loss: 1.2597 - val_categorical_accuracy: 0.6500 - lr: 5.0000e-04\n",
      "Epoch 5/10\n",
      "16/16 [==============================] - ETA: 0s - loss: 0.3936 - categorical_accuracy: 0.9201\n",
      "Epoch 00005: saving model to model_init_2022-06-1508_12_06.373935/model-00005-0.39364-0.92006-1.22617-0.62000.h5\n",
      "16/16 [==============================] - 61s 4s/step - loss: 0.3936 - categorical_accuracy: 0.9201 - val_loss: 1.2262 - val_categorical_accuracy: 0.6200 - lr: 5.0000e-04\n",
      "Epoch 6/10\n",
      "16/16 [==============================] - ETA: 0s - loss: 0.3061 - categorical_accuracy: 0.9638\n",
      "Epoch 00006: saving model to model_init_2022-06-1508_12_06.373935/model-00006-0.30607-0.96380-1.16242-0.73000.h5\n",
      "16/16 [==============================] - 67s 4s/step - loss: 0.3061 - categorical_accuracy: 0.9638 - val_loss: 1.1624 - val_categorical_accuracy: 0.7300 - lr: 5.0000e-04\n",
      "Epoch 7/10\n",
      "16/16 [==============================] - ETA: 0s - loss: 0.2396 - categorical_accuracy: 0.9653\n",
      "Epoch 00007: saving model to model_init_2022-06-1508_12_06.373935/model-00007-0.23963-0.96531-1.15735-0.78000.h5\n",
      "16/16 [==============================] - 66s 4s/step - loss: 0.2396 - categorical_accuracy: 0.9653 - val_loss: 1.1574 - val_categorical_accuracy: 0.7800 - lr: 5.0000e-04\n",
      "Epoch 8/10\n",
      "16/16 [==============================] - ETA: 0s - loss: 0.1760 - categorical_accuracy: 0.9970\n",
      "Epoch 00008: saving model to model_init_2022-06-1508_12_06.373935/model-00008-0.17603-0.99698-1.06672-0.78000.h5\n",
      "16/16 [==============================] - 62s 4s/step - loss: 0.1760 - categorical_accuracy: 0.9970 - val_loss: 1.0667 - val_categorical_accuracy: 0.7800 - lr: 5.0000e-04\n",
      "Epoch 9/10\n",
      "16/16 [==============================] - ETA: 0s - loss: 0.1409 - categorical_accuracy: 0.9985\n",
      "Epoch 00009: saving model to model_init_2022-06-1508_12_06.373935/model-00009-0.14090-0.99849-1.02906-0.79000.h5\n",
      "16/16 [==============================] - 64s 4s/step - loss: 0.1409 - categorical_accuracy: 0.9985 - val_loss: 1.0291 - val_categorical_accuracy: 0.7900 - lr: 5.0000e-04\n",
      "Epoch 10/10\n",
      "16/16 [==============================] - ETA: 0s - loss: 0.1315 - categorical_accuracy: 0.9955\n",
      "Epoch 00010: saving model to model_init_2022-06-1508_12_06.373935/model-00010-0.13154-0.99548-0.97898-0.79000.h5\n",
      "16/16 [==============================] - 65s 4s/step - loss: 0.1315 - categorical_accuracy: 0.9955 - val_loss: 0.9790 - val_categorical_accuracy: 0.7900 - lr: 5.0000e-04\n"
     ]
    },
    {
     "data": {
      "text/plain": [
       "<keras.callbacks.History at 0x7f3c7c499ac0>"
      ]
     },
     "execution_count": 49,
     "metadata": {},
     "output_type": "execute_result"
    }
   ],
   "source": [
    "# fitting the model\n",
    "model_3.fit_generator(train_generator, steps_per_epoch=steps_per_epoch, epochs=10, verbose=1,\n",
    "                    callbacks=callbacks_list, validation_data=val_generator,\n",
    "                    validation_steps=validation_steps, class_weight=None, workers=1, initial_epoch=0)"
   ]
  },
  {
   "cell_type": "code",
   "execution_count": 58,
   "metadata": {},
   "outputs": [
    {
     "data": {
      "image/png": "[encoded data removed]",
      "text/plain": [
       "<Figure size 1080x288 with 2 Axes>"
      ]
     },
     "metadata": {
      "needs_background": "light"
     },
     "output_type": "display_data"
    }
   ],
   "source": [
    "plot(model_3.history)"
   ]
  },
  {
   "cell_type": "code",
   "execution_count": 84,
   "metadata": {},
   "outputs": [],
   "source": [
    "# Building fourth model with all 30 instances\n",
    "batch_size=42\n",
    "frames = 30\n",
    "img_height = 140\n",
    "img_width = 140\n",
    "train_generator = generator(train_path, train_doc, batch_size,frames, img_height, img_width)\n",
    "val_generator = generator(val_path, val_doc, batch_size, frames, img_height, img_width)\n",
    "model_4 = Sequential([\n",
    "                    layers.Conv3D(32, (3,3,3), input_shape=(frames,img_height,img_width,3),padding=\"same\", activation=\"relu\"),             \n",
    "                    layers.MaxPooling3D(pool_size=(2,2,2)),\n",
    "                    \n",
    "                    layers.Conv3D(32, (3,3,3), padding=\"same\", activation=\"relu\"),\n",
    "                    layers.MaxPooling3D(pool_size=(2,2,2)),\n",
    "                    \n",
    "                    layers.Conv3D(64, (3,3,3), padding=\"same\", activation=\"relu\"),\n",
    "                    layers.MaxPooling3D(pool_size=(2,2,2)),\n",
    "                    layers.Dropout(0.5),\n",
    "\n",
    "                    layers.Flatten(),\n",
    "                    layers.Dense(64, activation=\"relu\"),\n",
    "                    layers.BatchNormalization(),\n",
    "                    layers.Dense(num_classes, activation=\"softmax\")\n",
    "])"
   ]
  },
  {
   "cell_type": "code",
   "execution_count": 55,
   "metadata": {},
   "outputs": [],
   "source": [
    "# Compiling the model\n",
    "K.set_value(model_4.optimizer.learning_rate, 0.0005) \n",
    "model_4.compile(optimizer=optimiser, loss='categorical_crossentropy', metrics=['categorical_accuracy'])"
   ]
  },
  {
   "cell_type": "code",
   "execution_count": 56,
   "metadata": {},
   "outputs": [
    {
     "name": "stdout",
     "output_type": "stream",
     "text": [
      "Epoch 1/10\n",
      "16/16 [==============================] - ETA: 0s - loss: 1.3750 - categorical_accuracy: 0.4329\n",
      "Epoch 00001: saving model to model_init_2022-06-1508_36_59.454944/model-00001-1.37497-0.43288-5.60121-0.28000.h5\n",
      "16/16 [==============================] - 66s 4s/step - loss: 1.3750 - categorical_accuracy: 0.4329 - val_loss: 5.6012 - val_categorical_accuracy: 0.2800 - lr: 5.0000e-04\n",
      "Epoch 2/10\n",
      "16/16 [==============================] - ETA: 0s - loss: 0.8572 - categorical_accuracy: 0.6863\n",
      "Epoch 00002: saving model to model_init_2022-06-1508_36_59.454944/model-00002-0.85717-0.68627-3.35512-0.36000.h5\n",
      "16/16 [==============================] - 64s 4s/step - loss: 0.8572 - categorical_accuracy: 0.6863 - val_loss: 3.3551 - val_categorical_accuracy: 0.3600 - lr: 5.0000e-04\n",
      "Epoch 3/10\n",
      "16/16 [==============================] - ETA: 0s - loss: 0.6092 - categorical_accuracy: 0.7903\n",
      "Epoch 00003: saving model to model_init_2022-06-1508_36_59.454944/model-00003-0.60916-0.79035-2.01667-0.35000.h5\n",
      "16/16 [==============================] - 66s 4s/step - loss: 0.6092 - categorical_accuracy: 0.7903 - val_loss: 2.0167 - val_categorical_accuracy: 0.3500 - lr: 5.0000e-04\n",
      "Epoch 4/10\n",
      "16/16 [==============================] - ETA: 0s - loss: 0.4809 - categorical_accuracy: 0.8492\n",
      "Epoch 00004: saving model to model_init_2022-06-1508_36_59.454944/model-00004-0.48089-0.84917-1.07396-0.59000.h5\n",
      "16/16 [==============================] - 63s 4s/step - loss: 0.4809 - categorical_accuracy: 0.8492 - val_loss: 1.0740 - val_categorical_accuracy: 0.5900 - lr: 5.0000e-04\n",
      "Epoch 5/10\n",
      "16/16 [==============================] - ETA: 0s - loss: 0.3611 - categorical_accuracy: 0.8899\n",
      "Epoch 00005: saving model to model_init_2022-06-1508_36_59.454944/model-00005-0.36108-0.88989-0.81125-0.75000.h5\n",
      "16/16 [==============================] - 67s 4s/step - loss: 0.3611 - categorical_accuracy: 0.8899 - val_loss: 0.8112 - val_categorical_accuracy: 0.7500 - lr: 5.0000e-04\n",
      "Epoch 6/10\n",
      "16/16 [==============================] - ETA: 0s - loss: 0.2715 - categorical_accuracy: 0.9306\n",
      "Epoch 00006: saving model to model_init_2022-06-1508_36_59.454944/model-00006-0.27147-0.93062-0.80858-0.70000.h5\n",
      "16/16 [==============================] - 64s 4s/step - loss: 0.2715 - categorical_accuracy: 0.9306 - val_loss: 0.8086 - val_categorical_accuracy: 0.7000 - lr: 5.0000e-04\n",
      "Epoch 7/10\n",
      "16/16 [==============================] - ETA: 0s - loss: 0.1868 - categorical_accuracy: 0.9638\n",
      "Epoch 00007: saving model to model_init_2022-06-1508_36_59.454944/model-00007-0.18679-0.96380-0.67815-0.76000.h5\n",
      "16/16 [==============================] - 65s 4s/step - loss: 0.1868 - categorical_accuracy: 0.9638 - val_loss: 0.6781 - val_categorical_accuracy: 0.7600 - lr: 5.0000e-04\n",
      "Epoch 8/10\n",
      "16/16 [==============================] - ETA: 0s - loss: 0.1431 - categorical_accuracy: 0.9789\n",
      "Epoch 00008: saving model to model_init_2022-06-1508_36_59.454944/model-00008-0.14313-0.97888-1.27477-0.47000.h5\n",
      "16/16 [==============================] - 66s 4s/step - loss: 0.1431 - categorical_accuracy: 0.9789 - val_loss: 1.2748 - val_categorical_accuracy: 0.4700 - lr: 5.0000e-04\n",
      "Epoch 9/10\n",
      "16/16 [==============================] - ETA: 0s - loss: 0.1130 - categorical_accuracy: 0.9879\n",
      "Epoch 00009: saving model to model_init_2022-06-1508_36_59.454944/model-00009-0.11302-0.98793-1.28075-0.50000.h5\n",
      "16/16 [==============================] - 67s 4s/step - loss: 0.1130 - categorical_accuracy: 0.9879 - val_loss: 1.2807 - val_categorical_accuracy: 0.5000 - lr: 5.0000e-04\n",
      "Epoch 10/10\n",
      "16/16 [==============================] - ETA: 0s - loss: 0.0786 - categorical_accuracy: 0.9985\n",
      "Epoch 00010: saving model to model_init_2022-06-1508_36_59.454944/model-00010-0.07863-0.99849-1.41411-0.41000.h5\n",
      "16/16 [==============================] - 63s 4s/step - loss: 0.0786 - categorical_accuracy: 0.9985 - val_loss: 1.4141 - val_categorical_accuracy: 0.4100 - lr: 5.0000e-04\n"
     ]
    },
    {
     "data": {
      "text/plain": [
       "<keras.callbacks.History at 0x7f3c7c4becd0>"
      ]
     },
     "execution_count": 56,
     "metadata": {},
     "output_type": "execute_result"
    }
   ],
   "source": [
    "# Fitting the model\n",
    "model_4.fit_generator(train_generator, steps_per_epoch=steps_per_epoch, epochs=10, verbose=1,\n",
    "                    callbacks=callbacks_list, validation_data=val_generator,\n",
    "                    validation_steps=validation_steps, class_weight=None, workers=1, initial_epoch=0)"
   ]
  },
  {
   "cell_type": "code",
   "execution_count": 59,
   "metadata": {},
   "outputs": [
    {
     "data": {
      "image/png": "[encoded data removed]",
      "text/plain": [
       "<Figure size 1080x288 with 2 Axes>"
      ]
     },
     "metadata": {
      "needs_background": "light"
     },
     "output_type": "display_data"
    }
   ],
   "source": [
    "plot(model_4.history)"
   ]
  },
  {
   "cell_type": "code",
   "execution_count": 61,
   "metadata": {},
   "outputs": [],
   "source": [
    "# Building fifth model with all 30 instances\n",
    "batch_size=42\n",
    "frames = 20\n",
    "img_height = 140\n",
    "img_width = 140\n",
    "train_generator = generator(train_path, train_doc, batch_size,frames, img_height, img_width)\n",
    "val_generator = generator(val_path, val_doc, batch_size, frames, img_height, img_width)\n",
    "model_5 = Sequential([\n",
    "                    layers.Conv3D(32, (3,3,3), input_shape= (frames,img_height,img_width,3),padding=\"same\", activation=\"relu\"),             \n",
    "                    layers.MaxPooling3D(pool_size=(2,2,2)),\n",
    "                    layers.Dropout(0.25),\n",
    "                    \n",
    "                    layers.Conv3D(32, (3,3,3), padding=\"same\", activation=\"relu\"),\n",
    "                    layers.MaxPooling3D(pool_size=(2,2,2)),\n",
    "                    layers.Dropout(0.25),\n",
    "                    \n",
    "                    layers.Conv3D(64, (3,3,3), padding=\"same\", activation=\"relu\"),\n",
    "                    layers.MaxPooling3D(pool_size=(2,2,2)),\n",
    "                    layers.Dropout(0.5),\n",
    "\n",
    "                    layers.Flatten(),\n",
    "                    layers.Dense(64, activation=\"relu\"),\n",
    "                    layers.BatchNormalization(),\n",
    "                    layers.Dense(num_classes, activation=\"softmax\")\n",
    "])"
   ]
  },
  {
   "cell_type": "code",
   "execution_count": 62,
   "metadata": {},
   "outputs": [],
   "source": [
    "# Compiling the model\n",
    "model_5.compile(optimizer=optimiser, loss='categorical_crossentropy', metrics=['categorical_accuracy'])\n",
    "K.set_value(model_5.optimizer.learning_rate, 0.0005)"
   ]
  },
  {
   "cell_type": "code",
   "execution_count": 64,
   "metadata": {},
   "outputs": [
    {
     "name": "stdout",
     "output_type": "stream",
     "text": [
      "Epoch 1/10\n",
      "16/16 [==============================] - ETA: 0s - loss: 1.4107 - categorical_accuracy: 0.4449\n",
      "Epoch 00001: saving model to model_init_2022-06-1508_56_27.660802/model-00001-1.41072-0.44495-5.65080-0.27000.h5\n",
      "16/16 [==============================] - 67s 4s/step - loss: 1.4107 - categorical_accuracy: 0.4449 - val_loss: 5.6508 - val_categorical_accuracy: 0.2700 - lr: 5.0000e-04\n",
      "Epoch 2/10\n",
      "16/16 [==============================] - ETA: 0s - loss: 1.1094 - categorical_accuracy: 0.5505\n",
      "Epoch 00002: saving model to model_init_2022-06-1508_56_27.660802/model-00002-1.10943-0.55053-7.39292-0.25000.h5\n",
      "16/16 [==============================] - 66s 4s/step - loss: 1.1094 - categorical_accuracy: 0.5505 - val_loss: 7.3929 - val_categorical_accuracy: 0.2500 - lr: 5.0000e-04\n",
      "Epoch 3/10\n",
      "16/16 [==============================] - ETA: 0s - loss: 0.9430 - categorical_accuracy: 0.6094\n",
      "Epoch 00003: saving model to model_init_2022-06-1508_56_27.660802/model-00003-0.94303-0.60935-1.06761-0.52000.h5\n",
      "16/16 [==============================] - 61s 4s/step - loss: 0.9430 - categorical_accuracy: 0.6094 - val_loss: 1.0676 - val_categorical_accuracy: 0.5200 - lr: 5.0000e-04\n",
      "Epoch 4/10\n",
      "16/16 [==============================] - ETA: 0s - loss: 0.7860 - categorical_accuracy: 0.7164\n",
      "Epoch 00004: saving model to model_init_2022-06-1508_56_27.660802/model-00004-0.78601-0.71644-0.93568-0.62000.h5\n",
      "16/16 [==============================] - 65s 4s/step - loss: 0.7860 - categorical_accuracy: 0.7164 - val_loss: 0.9357 - val_categorical_accuracy: 0.6200 - lr: 5.0000e-04\n",
      "Epoch 5/10\n",
      "16/16 [==============================] - ETA: 0s - loss: 0.5946 - categorical_accuracy: 0.7934\n",
      "Epoch 00005: saving model to model_init_2022-06-1508_56_27.660802/model-00005-0.59458-0.79336-1.87546-0.37000.h5\n",
      "16/16 [==============================] - 65s 4s/step - loss: 0.5946 - categorical_accuracy: 0.7934 - val_loss: 1.8755 - val_categorical_accuracy: 0.3700 - lr: 5.0000e-04\n",
      "Epoch 6/10\n",
      "16/16 [==============================] - ETA: 0s - loss: 0.4722 - categorical_accuracy: 0.8401\n",
      "Epoch 00006: saving model to model_init_2022-06-1508_56_27.660802/model-00006-0.47223-0.84012-2.20222-0.28000.h5\n",
      "16/16 [==============================] - 62s 4s/step - loss: 0.4722 - categorical_accuracy: 0.8401 - val_loss: 2.2022 - val_categorical_accuracy: 0.2800 - lr: 5.0000e-04\n",
      "Epoch 7/10\n",
      "16/16 [==============================] - ETA: 0s - loss: 0.3681 - categorical_accuracy: 0.8733\n",
      "Epoch 00007: saving model to model_init_2022-06-1508_56_27.660802/model-00007-0.36813-0.87330-1.46720-0.39000.h5\n",
      "16/16 [==============================] - 65s 4s/step - loss: 0.3681 - categorical_accuracy: 0.8733 - val_loss: 1.4672 - val_categorical_accuracy: 0.3900 - lr: 5.0000e-04\n",
      "Epoch 8/10\n",
      "16/16 [==============================] - ETA: 0s - loss: 0.3004 - categorical_accuracy: 0.9050\n",
      "Epoch 00008: saving model to model_init_2022-06-1508_56_27.660802/model-00008-0.30041-0.90498-2.70587-0.24000.h5\n",
      "\n",
      "Epoch 00008: ReduceLROnPlateau reducing learning rate to 0.00010000000474974513.\n",
      "16/16 [==============================] - 65s 4s/step - loss: 0.3004 - categorical_accuracy: 0.9050 - val_loss: 2.7059 - val_categorical_accuracy: 0.2400 - lr: 5.0000e-04\n",
      "Epoch 9/10\n",
      "16/16 [==============================] - ETA: 0s - loss: 0.2460 - categorical_accuracy: 0.9321\n",
      "Epoch 00009: saving model to model_init_2022-06-1508_56_27.660802/model-00009-0.24603-0.93213-2.29596-0.29000.h5\n",
      "16/16 [==============================] - 63s 4s/step - loss: 0.2460 - categorical_accuracy: 0.9321 - val_loss: 2.2960 - val_categorical_accuracy: 0.2900 - lr: 1.0000e-04\n",
      "Epoch 10/10\n",
      "16/16 [==============================] - ETA: 0s - loss: 0.2113 - categorical_accuracy: 0.9578\n",
      "Epoch 00010: saving model to model_init_2022-06-1508_56_27.660802/model-00010-0.21133-0.95777-1.83655-0.38000.h5\n",
      "16/16 [==============================] - 63s 4s/step - loss: 0.2113 - categorical_accuracy: 0.9578 - val_loss: 1.8365 - val_categorical_accuracy: 0.3800 - lr: 1.0000e-04\n"
     ]
    },
    {
     "data": {
      "text/plain": [
       "<keras.callbacks.History at 0x7f3c7c4e4040>"
      ]
     },
     "execution_count": 64,
     "metadata": {},
     "output_type": "execute_result"
    }
   ],
   "source": [
    "# Fitting the model\n",
    "model_5.fit_generator(train_generator, steps_per_epoch=steps_per_epoch, epochs=10, verbose=1,\n",
    "                    callbacks=callbacks_list, validation_data=val_generator,\n",
    "                    validation_steps=validation_steps, class_weight=None, workers=1, initial_epoch=0)"
   ]
  },
  {
   "cell_type": "code",
   "execution_count": 65,
   "metadata": {},
   "outputs": [
    {
     "data": {
      "image/png": "[encoded data removed]",
      "text/plain": [
       "<Figure size 1080x288 with 2 Axes>"
      ]
     },
     "metadata": {
      "needs_background": "light"
     },
     "output_type": "display_data"
    }
   ],
   "source": [
    "plot(model_5.history)"
   ]
  },
  {
   "cell_type": "code",
   "execution_count": 67,
   "metadata": {},
   "outputs": [],
   "source": [
    "# Building model 6\n",
    "batch_size=42\n",
    "frames = 20\n",
    "img_height = 140\n",
    "img_width = 140\n",
    "train_generator = generator(train_path, train_doc, batch_size,frames, img_height, img_width)\n",
    "val_generator = generator(val_path, val_doc, batch_size, frames, img_height, img_width)\n",
    "model_6 = Sequential([\n",
    "                    layers.Conv3D(16, (3,3,3), input_shape=(frames,img_height,img_width,3),padding=\"same\", activation=\"relu\"),             \n",
    "                    layers.BatchNormalization(),                \n",
    "                    layers.MaxPooling3D(pool_size=(2,2,2)),\n",
    "                    \n",
    "                    layers.Conv3D(32, (3,3,3), padding=\"same\", activation=\"relu\"),\n",
    "                    layers.BatchNormalization(),  \n",
    "                    layers.MaxPooling3D(pool_size=(2,2,2)),\n",
    "                    \n",
    "                    layers.Conv3D(64, (3,3,3), padding=\"same\", activation=\"relu\"),\n",
    "                    layers.BatchNormalization(),\n",
    "                    layers.MaxPooling3D(pool_size=(2,2,2)),\n",
    "\n",
    "                    layers.Conv3D(64, (3,3,3), padding=\"same\", activation=\"relu\"),\n",
    "                    layers.BatchNormalization(),\n",
    "                    layers.MaxPooling3D(pool_size=(2,2,2)),\n",
    "\n",
    "                    layers.Flatten(),\n",
    "                    layers.Dense(64, activation=\"relu\"),\n",
    "                    layers.BatchNormalization(),\n",
    "                    layers.Dropout(0.25),\n",
    "    \n",
    "                    layers.Dense(64, activation=\"relu\"),\n",
    "                    layers.BatchNormalization(),\n",
    "                    layers.Dropout(0.25),\n",
    "                  \n",
    "                    layers.Dense(num_classes, activation=\"softmax\")\n",
    "])"
   ]
  },
  {
   "cell_type": "code",
   "execution_count": 68,
   "metadata": {},
   "outputs": [],
   "source": [
    "# Compiling the model\n",
    "model_6.compile(optimizer=optimiser, loss='categorical_crossentropy', metrics=['categorical_accuracy'])\n",
    "K.set_value(model.optimizer.learning_rate, 0.0002)"
   ]
  },
  {
   "cell_type": "code",
   "execution_count": null,
   "metadata": {},
   "outputs": [
    {
     "name": "stdout",
     "output_type": "stream",
     "text": [
      "Epoch 1/10\n",
      "16/16 [==============================] - ETA: 0s - loss: 1.8315 - categorical_accuracy: 0.3318\n",
      "Epoch 00001: saving model to model_init_2022-06-1509_17_52.346559/model-00001-1.83145-0.33183-1.57336-0.41000.h5\n",
      "16/16 [==============================] - 68s 4s/step - loss: 1.8315 - categorical_accuracy: 0.3318 - val_loss: 1.5734 - val_categorical_accuracy: 0.4100 - lr: 1.0000e-04\n",
      "Epoch 2/10\n",
      "16/16 [==============================] - ETA: 0s - loss: 1.2423 - categorical_accuracy: 0.5309\n",
      "Epoch 00002: saving model to model_init_2022-06-1509_17_52.346559/model-00002-1.24226-0.53092-1.90769-0.21000.h5\n",
      "16/16 [==============================] - 59s 4s/step - loss: 1.2423 - categorical_accuracy: 0.5309 - val_loss: 1.9077 - val_categorical_accuracy: 0.2100 - lr: 1.0000e-04\n",
      "Epoch 3/10\n",
      "16/16 [==============================] - ETA: 0s - loss: 0.9046 - categorical_accuracy: 0.6456\n",
      "Epoch 00003: saving model to model_init_2022-06-1509_17_52.346559/model-00003-0.90457-0.64555-2.37487-0.21000.h5\n",
      "16/16 [==============================] - 62s 4s/step - loss: 0.9046 - categorical_accuracy: 0.6456 - val_loss: 2.3749 - val_categorical_accuracy: 0.2100 - lr: 1.0000e-04\n",
      "Epoch 4/10\n",
      "16/16 [==============================] - ETA: 0s - loss: 0.7551 - categorical_accuracy: 0.7210\n",
      "Epoch 00004: saving model to model_init_2022-06-1509_17_52.346559/model-00004-0.75512-0.72097-2.90696-0.17000.h5\n",
      "16/16 [==============================] - 62s 4s/step - loss: 0.7551 - categorical_accuracy: 0.7210 - val_loss: 2.9070 - val_categorical_accuracy: 0.1700 - lr: 1.0000e-04\n",
      "Epoch 5/10\n",
      "16/16 [==============================] - ETA: 0s - loss: 0.6264 - categorical_accuracy: 0.7707\n",
      "Epoch 00005: saving model to model_init_2022-06-1509_17_52.346559/model-00005-0.62639-0.77074-2.88145-0.25000.h5\n",
      "\n",
      "Epoch 00005: ReduceLROnPlateau reducing learning rate to 2.0000000949949027e-05.\n",
      "16/16 [==============================] - 59s 4s/step - loss: 0.6264 - categorical_accuracy: 0.7707 - val_loss: 2.8814 - val_categorical_accuracy: 0.2500 - lr: 1.0000e-04\n",
      "Epoch 6/10\n",
      "16/16 [==============================] - ETA: 0s - loss: 0.5049 - categorical_accuracy: 0.8326\n",
      "Epoch 00006: saving model to model_init_2022-06-1509_17_52.346559/model-00006-0.50494-0.83258-3.11447-0.21000.h5\n",
      "16/16 [==============================] - 62s 4s/step - loss: 0.5049 - categorical_accuracy: 0.8326 - val_loss: 3.1145 - val_categorical_accuracy: 0.2100 - lr: 2.0000e-05\n",
      "Epoch 7/10\n",
      "16/16 [==============================] - ETA: 0s - loss: 0.5599 - categorical_accuracy: 0.8115\n",
      "Epoch 00007: saving model to model_init_2022-06-1509_17_52.346559/model-00007-0.55993-0.81146-3.22663-0.21000.h5\n",
      "16/16 [==============================] - 62s 4s/step - loss: 0.5599 - categorical_accuracy: 0.8115 - val_loss: 3.2266 - val_categorical_accuracy: 0.2100 - lr: 2.0000e-05\n",
      "Epoch 8/10\n",
      "16/16 [==============================] - ETA: 0s - loss: 0.4781 - categorical_accuracy: 0.8250\n",
      "Epoch 00008: saving model to model_init_2022-06-1509_17_52.346559/model-00008-0.47810-0.82504-3.17249-0.22000.h5\n",
      "16/16 [==============================] - 57s 4s/step - loss: 0.4781 - categorical_accuracy: 0.8250 - val_loss: 3.1725 - val_categorical_accuracy: 0.2200 - lr: 2.0000e-05\n",
      "Epoch 9/10\n",
      "16/16 [==============================] - ETA: 0s - loss: 0.4772 - categorical_accuracy: 0.8326\n",
      "Epoch 00009: saving model to model_init_2022-06-1509_17_52.346559/model-00009-0.47717-0.83258-3.33567-0.18000.h5\n",
      "\n",
      "Epoch 00009: ReduceLROnPlateau reducing learning rate to 4.000000262749381e-06.\n",
      "16/16 [==============================] - 63s 4s/step - loss: 0.4772 - categorical_accuracy: 0.8326 - val_loss: 3.3357 - val_categorical_accuracy: 0.1800 - lr: 2.0000e-05\n",
      "Epoch 10/10\n",
      "16/16 [==============================] - ETA: 0s - loss: 0.4789 - categorical_accuracy: 0.8341\n",
      "Epoch 00010: saving model to model_init_2022-06-1509_17_52.346559/model-00010-0.47892-0.83409-3.11039-0.23000.h5\n",
      "16/16 [==============================] - 59s 4s/step - loss: 0.4789 - categorical_accuracy: 0.8341 - val_loss: 3.1104 - val_categorical_accuracy: 0.2300 - lr: 4.0000e-06\n"
     ]
    },
    {
     "data": {
      "text/plain": [
       "<keras.callbacks.History at 0x7f3cf0368100>"
      ]
     },
     "execution_count": 70,
     "metadata": {},
     "output_type": "execute_result"
    }
   ],
   "source": [
    "# Fitting the model\n",
    "model_6.fit_generator(train_generator, steps_per_epoch=steps_per_epoch, epochs=10, verbose=1,\n",
    "                    callbacks=callbacks_list, validation_data=val_generator,\n",
    "                    validation_steps=validation_steps, class_weight=None, workers=1, initial_epoch=0)"
   ]
  },
  {
   "cell_type": "code",
   "execution_count": 32,
   "metadata": {},
   "outputs": [],
   "source": [
    "# Building model 7\n",
    "batch_size=42\n",
    "frames = 16\n",
    "img_height = 140\n",
    "img_width = 140\n",
    "train_generator = generator(train_path, train_doc, batch_size,frames, img_height, img_width)\n",
    "val_generator = generator(val_path, val_doc, batch_size, frames, img_height, img_width)\n",
    "model_7 = Sequential([\n",
    "                    layers.Conv3D(16, (3,3,3), input_shape=(frames,img_height,img_width,3),padding=\"same\"),\n",
    "                    layers.Activation(\"relu\"),             \n",
    "                    layers.BatchNormalization(),                \n",
    "                    layers.MaxPooling3D(pool_size=(2,2,2)),\n",
    "                    \n",
    "                    layers.Conv3D(32, (3,3,3), padding=\"same\"),\n",
    "                    layers.Activation(\"relu\"),  \n",
    "                    layers.BatchNormalization(),  \n",
    "                    layers.MaxPooling3D(pool_size=(2,2,2)),\n",
    "                    \n",
    "                    layers.Conv3D(64, (3,3,3), padding=\"same\"),\n",
    "                    layers.Activation(\"relu\"),  \n",
    "                    layers.BatchNormalization(),\n",
    "                    layers.MaxPooling3D(pool_size=(2,2,2)),\n",
    "\n",
    "                    layers.Conv3D(64, (3,3,3), padding=\"same\"),\n",
    "                    layers.Activation(\"relu\"),  \n",
    "                    layers.BatchNormalization(),\n",
    "                    layers.MaxPooling3D(pool_size=(2,2,2)),\n",
    "\n",
    "                    layers.Flatten(),\n",
    "                    layers.Dense(128, activation=\"relu\"),\n",
    "                    layers.BatchNormalization(),\n",
    "                    layers.Dropout(0.25),\n",
    "    \n",
    "                    layers.Dense(64, activation=\"relu\"),\n",
    "                    layers.BatchNormalization(),\n",
    "                    layers.Dropout(0.25),\n",
    "                  \n",
    "                    layers.Dense(num_classes, activation=\"softmax\")\n",
    "])"
   ]
  },
  {
   "cell_type": "code",
   "execution_count": null,
   "metadata": {},
   "outputs": [],
   "source": [
    "# Compiling the model\n",
    "model_7.compile(optimizer=optimiser, loss='categorical_crossentropy', metrics=['categorical_accuracy'])\n",
    "K.set_value(model_7.optimizer.learning_rate, 0.0002)"
   ]
  },
  {
   "cell_type": "code",
   "execution_count": 36,
   "metadata": {},
   "outputs": [
    {
     "name": "stdout",
     "output_type": "stream",
     "text": [
      "Epoch 1/20\n",
      "16/16 [==============================] - ETA: 0s - loss: 1.4289 - categorical_accuracy: 0.4917source path =  datasets/Project_data/val ; batch size =  42\n",
      "\n",
      "Epoch 00001: saving model to model_init_2022-06-1511_49_24.112865/model-00001-1.42886-0.49170-1.78217-0.25000.h5\n",
      "16/16 [==============================] - 54s 4s/step - loss: 1.4289 - categorical_accuracy: 0.4917 - val_loss: 1.7822 - val_categorical_accuracy: 0.2500 - lr: 0.0010\n",
      "Epoch 2/20\n",
      "16/16 [==============================] - ETA: 0s - loss: 0.9221 - categorical_accuracy: 0.6410\n",
      "Epoch 00002: saving model to model_init_2022-06-1511_49_24.112865/model-00002-0.92210-0.64103-3.74182-0.20000.h5\n",
      "16/16 [==============================] - 54s 4s/step - loss: 0.9221 - categorical_accuracy: 0.6410 - val_loss: 3.7418 - val_categorical_accuracy: 0.2000 - lr: 0.0010\n",
      "Epoch 3/20\n",
      "16/16 [==============================] - ETA: 0s - loss: 0.5990 - categorical_accuracy: 0.7692\n",
      "Epoch 00003: saving model to model_init_2022-06-1511_49_24.112865/model-00003-0.59903-0.76923-4.22715-0.23000.h5\n",
      "16/16 [==============================] - 51s 3s/step - loss: 0.5990 - categorical_accuracy: 0.7692 - val_loss: 4.2272 - val_categorical_accuracy: 0.2300 - lr: 0.0010\n",
      "Epoch 4/20\n",
      "16/16 [==============================] - ETA: 0s - loss: 0.4857 - categorical_accuracy: 0.8250\n",
      "Epoch 00004: saving model to model_init_2022-06-1511_49_24.112865/model-00004-0.48566-0.82504-4.75770-0.22000.h5\n",
      "16/16 [==============================] - 52s 3s/step - loss: 0.4857 - categorical_accuracy: 0.8250 - val_loss: 4.7577 - val_categorical_accuracy: 0.2200 - lr: 0.0010\n",
      "Epoch 5/20\n",
      "16/16 [==============================] - ETA: 0s - loss: 0.3322 - categorical_accuracy: 0.8884\n",
      "Epoch 00005: saving model to model_init_2022-06-1511_49_24.112865/model-00005-0.33219-0.88839-5.85032-0.14000.h5\n",
      "\n",
      "Epoch 00005: ReduceLROnPlateau reducing learning rate to 0.00020000000949949026.\n",
      "16/16 [==============================] - 51s 3s/step - loss: 0.3322 - categorical_accuracy: 0.8884 - val_loss: 5.8503 - val_categorical_accuracy: 0.1400 - lr: 0.0010\n",
      "Epoch 6/20\n",
      "16/16 [==============================] - ETA: 0s - loss: 0.2923 - categorical_accuracy: 0.9005\n",
      "Epoch 00006: saving model to model_init_2022-06-1511_49_24.112865/model-00006-0.29227-0.90045-5.96376-0.26000.h5\n",
      "16/16 [==============================] - 50s 3s/step - loss: 0.2923 - categorical_accuracy: 0.9005 - val_loss: 5.9638 - val_categorical_accuracy: 0.2600 - lr: 2.0000e-04\n",
      "Epoch 7/20\n",
      "16/16 [==============================] - ETA: 0s - loss: 0.2176 - categorical_accuracy: 0.9382\n",
      "Epoch 00007: saving model to model_init_2022-06-1511_49_24.112865/model-00007-0.21756-0.93816-5.92719-0.22000.h5\n",
      "16/16 [==============================] - 49s 3s/step - loss: 0.2176 - categorical_accuracy: 0.9382 - val_loss: 5.9272 - val_categorical_accuracy: 0.2200 - lr: 2.0000e-04\n",
      "Epoch 8/20\n",
      "16/16 [==============================] - ETA: 0s - loss: 0.1629 - categorical_accuracy: 0.9608\n",
      "Epoch 00008: saving model to model_init_2022-06-1511_49_24.112865/model-00008-0.16289-0.96078-6.21089-0.22000.h5\n",
      "16/16 [==============================] - 51s 3s/step - loss: 0.1629 - categorical_accuracy: 0.9608 - val_loss: 6.2109 - val_categorical_accuracy: 0.2200 - lr: 2.0000e-04\n",
      "Epoch 9/20\n",
      "16/16 [==============================] - ETA: 0s - loss: 0.1449 - categorical_accuracy: 0.9668\n",
      "Epoch 00009: saving model to model_init_2022-06-1511_49_24.112865/model-00009-0.14485-0.96682-6.19344-0.26000.h5\n",
      "\n",
      "Epoch 00009: ReduceLROnPlateau reducing learning rate to 4.0000001899898055e-05.\n",
      "16/16 [==============================] - 47s 3s/step - loss: 0.1449 - categorical_accuracy: 0.9668 - val_loss: 6.1934 - val_categorical_accuracy: 0.2600 - lr: 2.0000e-04\n",
      "Epoch 10/20\n",
      "16/16 [==============================] - ETA: 0s - loss: 0.1264 - categorical_accuracy: 0.9774\n",
      "Epoch 00010: saving model to model_init_2022-06-1511_49_24.112865/model-00010-0.12637-0.97738-6.41114-0.27000.h5\n",
      "16/16 [==============================] - 48s 3s/step - loss: 0.1264 - categorical_accuracy: 0.9774 - val_loss: 6.4111 - val_categorical_accuracy: 0.2700 - lr: 4.0000e-05\n",
      "Epoch 11/20\n",
      "16/16 [==============================] - ETA: 0s - loss: 0.1327 - categorical_accuracy: 0.9713\n",
      "Epoch 00011: saving model to model_init_2022-06-1511_49_24.112865/model-00011-0.13275-0.97134-6.42533-0.25000.h5\n",
      "16/16 [==============================] - 49s 3s/step - loss: 0.1327 - categorical_accuracy: 0.9713 - val_loss: 6.4253 - val_categorical_accuracy: 0.2500 - lr: 4.0000e-05\n",
      "Epoch 12/20\n",
      "16/16 [==============================] - ETA: 0s - loss: 0.1329 - categorical_accuracy: 0.9744\n",
      "Epoch 00012: saving model to model_init_2022-06-1511_49_24.112865/model-00012-0.13285-0.97436-6.05500-0.31000.h5\n",
      "16/16 [==============================] - 47s 3s/step - loss: 0.1329 - categorical_accuracy: 0.9744 - val_loss: 6.0550 - val_categorical_accuracy: 0.3100 - lr: 4.0000e-05\n",
      "Epoch 13/20\n",
      "16/16 [==============================] - ETA: 0s - loss: 0.1127 - categorical_accuracy: 0.9849\n",
      "Epoch 00013: saving model to model_init_2022-06-1511_49_24.112865/model-00013-0.11269-0.98492-6.24150-0.29000.h5\n",
      "\n",
      "Epoch 00013: ReduceLROnPlateau reducing learning rate to 8.000000525498762e-06.\n",
      "16/16 [==============================] - 49s 3s/step - loss: 0.1127 - categorical_accuracy: 0.9849 - val_loss: 6.2415 - val_categorical_accuracy: 0.2900 - lr: 4.0000e-05\n",
      "Epoch 14/20\n",
      "16/16 [==============================] - ETA: 0s - loss: 0.1210 - categorical_accuracy: 0.9729\n",
      "Epoch 00014: saving model to model_init_2022-06-1511_49_24.112865/model-00014-0.12104-0.97285-6.11205-0.32000.h5\n",
      "16/16 [==============================] - 49s 3s/step - loss: 0.1210 - categorical_accuracy: 0.9729 - val_loss: 6.1120 - val_categorical_accuracy: 0.3200 - lr: 8.0000e-06\n",
      "Epoch 15/20\n",
      "16/16 [==============================] - ETA: 0s - loss: 0.1198 - categorical_accuracy: 0.9729\n",
      "Epoch 00015: saving model to model_init_2022-06-1511_49_24.112865/model-00015-0.11979-0.97285-5.70544-0.32000.h5\n",
      "16/16 [==============================] - 46s 3s/step - loss: 0.1198 - categorical_accuracy: 0.9729 - val_loss: 5.7054 - val_categorical_accuracy: 0.3200 - lr: 8.0000e-06\n",
      "Epoch 16/20\n",
      "16/16 [==============================] - ETA: 0s - loss: 0.1181 - categorical_accuracy: 0.9744\n",
      "Epoch 00016: saving model to model_init_2022-06-1511_49_24.112865/model-00016-0.11810-0.97436-5.86302-0.29000.h5\n",
      "16/16 [==============================] - 52s 3s/step - loss: 0.1181 - categorical_accuracy: 0.9744 - val_loss: 5.8630 - val_categorical_accuracy: 0.2900 - lr: 8.0000e-06\n",
      "Epoch 17/20\n",
      "16/16 [==============================] - ETA: 0s - loss: 0.1105 - categorical_accuracy: 0.9774\n",
      "Epoch 00017: saving model to model_init_2022-06-1511_49_24.112865/model-00017-0.11049-0.97738-5.82611-0.28000.h5\n",
      "\n",
      "Epoch 00017: ReduceLROnPlateau reducing learning rate to 1.6000001778593287e-06.\n",
      "16/16 [==============================] - 51s 3s/step - loss: 0.1105 - categorical_accuracy: 0.9774 - val_loss: 5.8261 - val_categorical_accuracy: 0.2800 - lr: 8.0000e-06\n",
      "Epoch 18/20\n",
      "16/16 [==============================] - ETA: 0s - loss: 0.1178 - categorical_accuracy: 0.9789\n",
      "Epoch 00018: saving model to model_init_2022-06-1511_49_24.112865/model-00018-0.11781-0.97888-5.44069-0.28000.h5\n",
      "16/16 [==============================] - 48s 3s/step - loss: 0.1178 - categorical_accuracy: 0.9789 - val_loss: 5.4407 - val_categorical_accuracy: 0.2800 - lr: 1.6000e-06\n",
      "Epoch 19/20\n",
      "16/16 [==============================] - ETA: 0s - loss: 0.1062 - categorical_accuracy: 0.9819\n",
      "Epoch 00019: saving model to model_init_2022-06-1511_49_24.112865/model-00019-0.10624-0.98190-5.17071-0.29000.h5\n",
      "16/16 [==============================] - 48s 3s/step - loss: 0.1062 - categorical_accuracy: 0.9819 - val_loss: 5.1707 - val_categorical_accuracy: 0.2900 - lr: 1.6000e-06\n",
      "Epoch 20/20\n",
      "16/16 [==============================] - ETA: 0s - loss: 0.1425 - categorical_accuracy: 0.9744\n",
      "Epoch 00020: saving model to model_init_2022-06-1511_49_24.112865/model-00020-0.14251-0.97436-5.03123-0.25000.h5\n",
      "16/16 [==============================] - 49s 3s/step - loss: 0.1425 - categorical_accuracy: 0.9744 - val_loss: 5.0312 - val_categorical_accuracy: 0.2500 - lr: 1.6000e-06\n"
     ]
    },
    {
     "data": {
      "text/plain": [
       "<keras.callbacks.History at 0x7f8d7c6a1100>"
      ]
     },
     "execution_count": 36,
     "metadata": {},
     "output_type": "execute_result"
    }
   ],
   "source": [
    "# Fitting the model\n",
    "model_7.fit_generator(train_generator, steps_per_epoch=steps_per_epoch, epochs=20, verbose=1,\n",
    "                    callbacks=callbacks_list, validation_data=val_generator,\n",
    "                    validation_steps=validation_steps, class_weight=None, workers=1, initial_epoch=0)"
   ]
  },
  {
   "cell_type": "code",
   "execution_count": 43,
   "metadata": {},
   "outputs": [
    {
     "data": {
      "image/png": "[encoded data removed]",
      "text/plain": [
       "<Figure size 1080x288 with 2 Axes>"
      ]
     },
     "metadata": {
      "needs_background": "light"
     },
     "output_type": "display_data"
    }
   ],
   "source": [
    "plot(model_7.history)"
   ]
  },
  {
   "cell_type": "code",
   "execution_count": 58,
   "metadata": {},
   "outputs": [],
   "source": [
    "# Building model 8\n",
    "batch_size=42\n",
    "frames = 20\n",
    "img_height = 140\n",
    "img_width = 140\n",
    "train_generator = generator(train_path, train_doc, batch_size,frames, img_height, img_width)\n",
    "val_generator = generator(val_path, val_doc, batch_size, frames, img_height, img_width)\n",
    "model_8 = Sequential([\n",
    "                    layers.Conv3D(16, (3,3,3), input_shape=(frames,img_height,img_width,3),padding=\"same\"),\n",
    "                    layers.Activation(\"relu\"),             \n",
    "                    layers.BatchNormalization(),                \n",
    "                    layers.MaxPooling3D(pool_size=(2,2,2)),\n",
    "                    \n",
    "                    layers.Conv3D(32, (3,3,3), padding=\"same\"),\n",
    "                    layers.Activation(\"relu\"),  \n",
    "                    layers.BatchNormalization(),  \n",
    "                    layers.MaxPooling3D(pool_size=(2,2,2)),\n",
    "                    \n",
    "                    layers.Conv3D(32, (3,3,3), padding=\"same\"),\n",
    "                    layers.Activation(\"relu\"),  \n",
    "                    layers.BatchNormalization(),\n",
    "                    layers.MaxPooling3D(pool_size=(2,2,2)),\n",
    "\n",
    "                    layers.Flatten(),\n",
    "                    layers.Dense(128, activation=\"relu\"),\n",
    "                    layers.BatchNormalization(),\n",
    "                    layers.Dropout(0.5),\n",
    "    \n",
    "                    layers.Dense(64, activation=\"relu\"),\n",
    "                    layers.BatchNormalization(),\n",
    "                    layers.Dropout(0.5),\n",
    "                  \n",
    "                    layers.Dense(num_classes, activation=\"softmax\")\n",
    "])\n",
    "\n",
    "model_8.compile(optimizer=optimiser, loss='categorical_crossentropy', metrics=['categorical_accuracy'])\n",
    "K.set_value(model_8.optimizer.learning_rate, 0.002)"
   ]
  },
  {
   "cell_type": "code",
   "execution_count": 47,
   "metadata": {},
   "outputs": [
    {
     "name": "stdout",
     "output_type": "stream",
     "text": [
      "Epoch 1/20\n",
      "16/16 [==============================] - ETA: 0s - loss: 2.0578 - categorical_accuracy: 0.3424source path =  datasets/Project_data/val ; batch size =  42\n",
      "\n",
      "Epoch 00001: saving model to model_init_2022-06-1512_10_20.790582/model-00001-2.05783-0.34238-1.52770-0.33000.h5\n",
      "16/16 [==============================] - 67s 4s/step - loss: 2.0578 - categorical_accuracy: 0.3424 - val_loss: 1.5277 - val_categorical_accuracy: 0.3300 - lr: 0.0010\n",
      "Epoch 2/20\n",
      "16/16 [==============================] - ETA: 0s - loss: 1.4230 - categorical_accuracy: 0.5053\n",
      "Epoch 00002: saving model to model_init_2022-06-1512_10_20.790582/model-00002-1.42304-0.50528-3.64643-0.15000.h5\n",
      "16/16 [==============================] - 69s 5s/step - loss: 1.4230 - categorical_accuracy: 0.5053 - val_loss: 3.6464 - val_categorical_accuracy: 0.1500 - lr: 0.0010\n",
      "Epoch 3/20\n",
      "16/16 [==============================] - ETA: 0s - loss: 1.0189 - categorical_accuracy: 0.5943\n",
      "Epoch 00003: saving model to model_init_2022-06-1512_10_20.790582/model-00003-1.01887-0.59427-7.63584-0.17000.h5\n",
      "16/16 [==============================] - 59s 4s/step - loss: 1.0189 - categorical_accuracy: 0.5943 - val_loss: 7.6358 - val_categorical_accuracy: 0.1700 - lr: 0.0010\n",
      "Epoch 4/20\n",
      "16/16 [==============================] - ETA: 0s - loss: 0.8730 - categorical_accuracy: 0.7014\n",
      "Epoch 00004: saving model to model_init_2022-06-1512_10_20.790582/model-00004-0.87297-0.70136-10.44179-0.24000.h5\n",
      "16/16 [==============================] - 64s 4s/step - loss: 0.8730 - categorical_accuracy: 0.7014 - val_loss: 10.4418 - val_categorical_accuracy: 0.2400 - lr: 0.0010\n",
      "Epoch 5/20\n",
      "16/16 [==============================] - ETA: 0s - loss: 0.6582 - categorical_accuracy: 0.7421\n",
      "Epoch 00005: saving model to model_init_2022-06-1512_10_20.790582/model-00005-0.65824-0.74208-11.57599-0.29000.h5\n",
      "\n",
      "Epoch 00005: ReduceLROnPlateau reducing learning rate to 0.00020000000949949026.\n",
      "16/16 [==============================] - 76s 5s/step - loss: 0.6582 - categorical_accuracy: 0.7421 - val_loss: 11.5760 - val_categorical_accuracy: 0.2900 - lr: 0.0010\n",
      "Epoch 6/20\n",
      "16/16 [==============================] - ETA: 0s - loss: 0.6449 - categorical_accuracy: 0.7722\n",
      "Epoch 00006: saving model to model_init_2022-06-1512_10_20.790582/model-00006-0.64494-0.77225-12.54813-0.31000.h5\n",
      "16/16 [==============================] - 68s 4s/step - loss: 0.6449 - categorical_accuracy: 0.7722 - val_loss: 12.5481 - val_categorical_accuracy: 0.3100 - lr: 2.0000e-04\n",
      "Epoch 7/20\n",
      "16/16 [==============================] - ETA: 0s - loss: 0.5045 - categorical_accuracy: 0.8145\n",
      "Epoch 00007: saving model to model_init_2022-06-1512_10_20.790582/model-00007-0.50452-0.81448-14.87727-0.23000.h5\n",
      "16/16 [==============================] - 74s 5s/step - loss: 0.5045 - categorical_accuracy: 0.8145 - val_loss: 14.8773 - val_categorical_accuracy: 0.2300 - lr: 2.0000e-04\n",
      "Epoch 8/20\n",
      "16/16 [==============================] - ETA: 0s - loss: 0.4610 - categorical_accuracy: 0.8537\n",
      "Epoch 00008: saving model to model_init_2022-06-1512_10_20.790582/model-00008-0.46099-0.85370-15.99468-0.23000.h5\n",
      "16/16 [==============================] - 70s 5s/step - loss: 0.4610 - categorical_accuracy: 0.8537 - val_loss: 15.9947 - val_categorical_accuracy: 0.2300 - lr: 2.0000e-04\n",
      "Epoch 9/20\n",
      "16/16 [==============================] - ETA: 0s - loss: 0.4105 - categorical_accuracy: 0.8703\n",
      "Epoch 00009: saving model to model_init_2022-06-1512_10_20.790582/model-00009-0.41050-0.87029-16.32570-0.20000.h5\n",
      "\n",
      "Epoch 00009: ReduceLROnPlateau reducing learning rate to 4.0000001899898055e-05.\n",
      "16/16 [==============================] - 69s 5s/step - loss: 0.4105 - categorical_accuracy: 0.8703 - val_loss: 16.3257 - val_categorical_accuracy: 0.2000 - lr: 2.0000e-04\n",
      "Epoch 10/20\n",
      "16/16 [==============================] - ETA: 0s - loss: 0.3851 - categorical_accuracy: 0.8552\n",
      "Epoch 00010: saving model to model_init_2022-06-1512_10_20.790582/model-00010-0.38508-0.85520-15.72429-0.23000.h5\n",
      "16/16 [==============================] - 71s 5s/step - loss: 0.3851 - categorical_accuracy: 0.8552 - val_loss: 15.7243 - val_categorical_accuracy: 0.2300 - lr: 4.0000e-05\n",
      "Epoch 11/20\n",
      "16/16 [==============================] - ETA: 0s - loss: 0.3547 - categorical_accuracy: 0.8763\n",
      "Epoch 00011: saving model to model_init_2022-06-1512_10_20.790582/model-00011-0.35467-0.87632-13.94285-0.26000.h5\n",
      "16/16 [==============================] - 69s 5s/step - loss: 0.3547 - categorical_accuracy: 0.8763 - val_loss: 13.9428 - val_categorical_accuracy: 0.2600 - lr: 4.0000e-05\n",
      "Epoch 12/20\n",
      "16/16 [==============================] - ETA: 0s - loss: 0.3400 - categorical_accuracy: 0.8748\n",
      "Epoch 00012: saving model to model_init_2022-06-1512_10_20.790582/model-00012-0.34003-0.87481-13.63968-0.25000.h5\n",
      "16/16 [==============================] - 71s 5s/step - loss: 0.3400 - categorical_accuracy: 0.8748 - val_loss: 13.6397 - val_categorical_accuracy: 0.2500 - lr: 4.0000e-05\n",
      "Epoch 13/20\n",
      "16/16 [==============================] - ETA: 0s - loss: 0.3920 - categorical_accuracy: 0.8612\n",
      "Epoch 00013: saving model to model_init_2022-06-1512_10_20.790582/model-00013-0.39196-0.86124-12.24881-0.23000.h5\n",
      "\n",
      "Epoch 00013: ReduceLROnPlateau reducing learning rate to 8.000000525498762e-06.\n",
      "16/16 [==============================] - 63s 4s/step - loss: 0.3920 - categorical_accuracy: 0.8612 - val_loss: 12.2488 - val_categorical_accuracy: 0.2300 - lr: 4.0000e-05\n",
      "Epoch 14/20\n",
      "16/16 [==============================] - ETA: 0s - loss: 0.3424 - categorical_accuracy: 0.8763\n",
      "Epoch 00014: saving model to model_init_2022-06-1512_10_20.790582/model-00014-0.34236-0.87632-9.84398-0.27000.h5\n",
      "16/16 [==============================] - 62s 4s/step - loss: 0.3424 - categorical_accuracy: 0.8763 - val_loss: 9.8440 - val_categorical_accuracy: 0.2700 - lr: 8.0000e-06\n",
      "Epoch 15/20\n",
      "16/16 [==============================] - ETA: 0s - loss: 0.3721 - categorical_accuracy: 0.8658\n",
      "Epoch 00015: saving model to model_init_2022-06-1512_10_20.790582/model-00015-0.37211-0.86576-9.38812-0.24000.h5\n",
      "16/16 [==============================] - 61s 4s/step - loss: 0.3721 - categorical_accuracy: 0.8658 - val_loss: 9.3881 - val_categorical_accuracy: 0.2400 - lr: 8.0000e-06\n",
      "Epoch 16/20\n",
      "16/16 [==============================] - ETA: 0s - loss: 0.3649 - categorical_accuracy: 0.8658\n",
      "Epoch 00016: saving model to model_init_2022-06-1512_10_20.790582/model-00016-0.36486-0.86576-8.02539-0.22000.h5\n",
      "16/16 [==============================] - 68s 5s/step - loss: 0.3649 - categorical_accuracy: 0.8658 - val_loss: 8.0254 - val_categorical_accuracy: 0.2200 - lr: 8.0000e-06\n",
      "Epoch 17/20\n",
      "16/16 [==============================] - ETA: 0s - loss: 0.3809 - categorical_accuracy: 0.8537\n",
      "Epoch 00017: saving model to model_init_2022-06-1512_10_20.790582/model-00017-0.38085-0.85370-7.02994-0.24000.h5\n",
      "\n",
      "Epoch 00017: ReduceLROnPlateau reducing learning rate to 1.6000001778593287e-06.\n",
      "16/16 [==============================] - 69s 5s/step - loss: 0.3809 - categorical_accuracy: 0.8537 - val_loss: 7.0299 - val_categorical_accuracy: 0.2400 - lr: 8.0000e-06\n",
      "Epoch 18/20\n",
      "16/16 [==============================] - ETA: 0s - loss: 0.3650 - categorical_accuracy: 0.8658\n",
      "Epoch 00018: saving model to model_init_2022-06-1512_10_20.790582/model-00018-0.36495-0.86576-6.18754-0.26000.h5\n",
      "16/16 [==============================] - 67s 4s/step - loss: 0.3650 - categorical_accuracy: 0.8658 - val_loss: 6.1875 - val_categorical_accuracy: 0.2600 - lr: 1.6000e-06\n",
      "Epoch 19/20\n",
      "16/16 [==============================] - ETA: 0s - loss: 0.3501 - categorical_accuracy: 0.8899\n",
      "Epoch 00019: saving model to model_init_2022-06-1512_10_20.790582/model-00019-0.35014-0.88989-5.93898-0.26000.h5\n",
      "16/16 [==============================] - 68s 5s/step - loss: 0.3501 - categorical_accuracy: 0.8899 - val_loss: 5.9390 - val_categorical_accuracy: 0.2600 - lr: 1.6000e-06\n",
      "Epoch 20/20\n",
      "16/16 [==============================] - ETA: 0s - loss: 0.3817 - categorical_accuracy: 0.8627\n",
      "Epoch 00020: saving model to model_init_2022-06-1512_10_20.790582/model-00020-0.38173-0.86275-5.92374-0.22000.h5\n",
      "16/16 [==============================] - 67s 4s/step - loss: 0.3817 - categorical_accuracy: 0.8627 - val_loss: 5.9237 - val_categorical_accuracy: 0.2200 - lr: 1.6000e-06\n"
     ]
    },
    {
     "data": {
      "text/plain": [
       "<keras.callbacks.History at 0x7f8d7c42fdf0>"
      ]
     },
     "execution_count": 47,
     "metadata": {},
     "output_type": "execute_result"
    }
   ],
   "source": [
    "# Fitting the model\n",
    "model_8.fit_generator(train_generator, steps_per_epoch=steps_per_epoch, epochs=20, verbose=1,\n",
    "                    callbacks=callbacks_list, validation_data=val_generator,\n",
    "                    validation_steps=validation_steps, class_weight=None, workers=1, initial_epoch=0)"
   ]
  },
  {
   "cell_type": "code",
   "execution_count": 59,
   "metadata": {},
   "outputs": [],
   "source": [
    "# Building model 9\n",
    "batch_size=42\n",
    "frames = 16\n",
    "img_height = 140\n",
    "img_width = 140\n",
    "train_generator = generator(train_path, train_doc, batch_size,frames, img_height, img_width)\n",
    "val_generator = generator(val_path, val_doc, batch_size, frames, img_height, img_width)\n",
    "model_9 = Sequential([\n",
    "                    layers.Conv3D(16, (3,3,3), input_shape=(frames,img_height,img_width,3),padding=\"same\"),\n",
    "                    layers.Activation(\"relu\"),                            \n",
    "                    layers.MaxPooling3D(pool_size=(2,2,2)),\n",
    "                    \n",
    "                    layers.Conv3D(32, (3,3,3), padding=\"same\"),\n",
    "                    layers.Activation(\"relu\"),   \n",
    "                    layers.MaxPooling3D(pool_size=(2,2,2)),\n",
    "                    \n",
    "                    layers.Conv3D(32, (3,3,3), padding=\"same\"),\n",
    "                    layers.Activation(\"relu\"),  \n",
    "                    layers.MaxPooling3D(pool_size=(2,2,2)),\n",
    "                    layers.Dropout(0.5),\n",
    "    \n",
    "                    layers.Flatten(),\n",
    "                    layers.Dense(128, activation=\"relu\"),\n",
    "                    layers.BatchNormalization(),\n",
    "    \n",
    "                    layers.Dense(64, activation=\"relu\"),\n",
    "                    layers.BatchNormalization(),\n",
    "                    layers.Dropout(0.5),\n",
    "                  \n",
    "                    layers.Dense(num_classes, activation=\"softmax\")\n",
    "])\n",
    "\n",
    "model_9.compile(optimizer=\"sgd\", loss='categorical_crossentropy', metrics=['categorical_accuracy'])\n",
    "K.set_value(model_9.optimizer.learning_rate, 0.002)"
   ]
  },
  {
   "cell_type": "code",
   "execution_count": 61,
   "metadata": {},
   "outputs": [
    {
     "name": "stdout",
     "output_type": "stream",
     "text": [
      "source path =  datasets/Project_data/train ; batch size =  42\n",
      "Epoch 1/20\n",
      "16/16 [==============================] - ETA: 0s - loss: 2.5451 - categorical_accuracy: 0.1991source path =  datasets/Project_data/val ; batch size =  42\n",
      "\n",
      "Epoch 00001: saving model to model_init_2022-06-1512_40_03.652909/model-00001-2.54512-0.19910-1.63086-0.23000.h5\n",
      "16/16 [==============================] - 52s 3s/step - loss: 2.5451 - categorical_accuracy: 0.1991 - val_loss: 1.6309 - val_categorical_accuracy: 0.2300 - lr: 0.0020\n",
      "Epoch 2/20\n",
      "16/16 [==============================] - ETA: 0s - loss: 2.1811 - categorical_accuracy: 0.3107\n",
      "Epoch 00002: saving model to model_init_2022-06-1512_40_03.652909/model-00002-2.18109-0.31071-1.78618-0.21000.h5\n",
      "16/16 [==============================] - 52s 3s/step - loss: 2.1811 - categorical_accuracy: 0.3107 - val_loss: 1.7862 - val_categorical_accuracy: 0.2100 - lr: 0.0020\n",
      "Epoch 3/20\n",
      "16/16 [==============================] - ETA: 0s - loss: 2.1861 - categorical_accuracy: 0.3288\n",
      "Epoch 00003: saving model to model_init_2022-06-1512_40_03.652909/model-00003-2.18608-0.32881-1.58651-0.25000.h5\n",
      "16/16 [==============================] - 51s 3s/step - loss: 2.1861 - categorical_accuracy: 0.3288 - val_loss: 1.5865 - val_categorical_accuracy: 0.2500 - lr: 0.0020\n",
      "Epoch 4/20\n",
      "16/16 [==============================] - ETA: 0s - loss: 1.7817 - categorical_accuracy: 0.3725\n",
      "Epoch 00004: saving model to model_init_2022-06-1512_40_03.652909/model-00004-1.78168-0.37255-1.51982-0.21000.h5\n",
      "16/16 [==============================] - 55s 4s/step - loss: 1.7817 - categorical_accuracy: 0.3725 - val_loss: 1.5198 - val_categorical_accuracy: 0.2100 - lr: 0.0020\n",
      "Epoch 5/20\n",
      "16/16 [==============================] - ETA: 0s - loss: 1.6539 - categorical_accuracy: 0.4389\n",
      "Epoch 00005: saving model to model_init_2022-06-1512_40_03.652909/model-00005-1.65392-0.43891-1.50502-0.40000.h5\n",
      "16/16 [==============================] - 54s 4s/step - loss: 1.6539 - categorical_accuracy: 0.4389 - val_loss: 1.5050 - val_categorical_accuracy: 0.4000 - lr: 0.0020\n",
      "Epoch 6/20\n",
      "16/16 [==============================] - ETA: 0s - loss: 1.5811 - categorical_accuracy: 0.4495\n",
      "Epoch 00006: saving model to model_init_2022-06-1512_40_03.652909/model-00006-1.58114-0.44947-1.51819-0.27000.h5\n",
      "16/16 [==============================] - 51s 3s/step - loss: 1.5811 - categorical_accuracy: 0.4495 - val_loss: 1.5182 - val_categorical_accuracy: 0.2700 - lr: 0.0020\n",
      "Epoch 7/20\n",
      "16/16 [==============================] - ETA: 0s - loss: 1.4992 - categorical_accuracy: 0.4449\n",
      "Epoch 00007: saving model to model_init_2022-06-1512_40_03.652909/model-00007-1.49920-0.44495-1.48749-0.36000.h5\n",
      "16/16 [==============================] - 51s 3s/step - loss: 1.4992 - categorical_accuracy: 0.4449 - val_loss: 1.4875 - val_categorical_accuracy: 0.3600 - lr: 0.0020\n",
      "Epoch 8/20\n",
      "16/16 [==============================] - ETA: 0s - loss: 1.3948 - categorical_accuracy: 0.5038\n",
      "Epoch 00008: saving model to model_init_2022-06-1512_40_03.652909/model-00008-1.39478-0.50377-1.50038-0.36000.h5\n",
      "16/16 [==============================] - 49s 3s/step - loss: 1.3948 - categorical_accuracy: 0.5038 - val_loss: 1.5004 - val_categorical_accuracy: 0.3600 - lr: 0.0020\n",
      "Epoch 9/20\n",
      "16/16 [==============================] - ETA: 0s - loss: 1.2611 - categorical_accuracy: 0.5204\n",
      "Epoch 00009: saving model to model_init_2022-06-1512_40_03.652909/model-00009-1.26113-0.52036-1.48982-0.31000.h5\n",
      "16/16 [==============================] - 47s 3s/step - loss: 1.2611 - categorical_accuracy: 0.5204 - val_loss: 1.4898 - val_categorical_accuracy: 0.3100 - lr: 0.0020\n",
      "Epoch 10/20\n",
      "16/16 [==============================] - ETA: 0s - loss: 1.1508 - categorical_accuracy: 0.5656\n",
      "Epoch 00010: saving model to model_init_2022-06-1512_40_03.652909/model-00010-1.15076-0.56561-1.40396-0.41000.h5\n",
      "16/16 [==============================] - 49s 3s/step - loss: 1.1508 - categorical_accuracy: 0.5656 - val_loss: 1.4040 - val_categorical_accuracy: 0.4100 - lr: 0.0020\n",
      "Epoch 11/20\n",
      "16/16 [==============================] - ETA: 0s - loss: 1.1427 - categorical_accuracy: 0.5716\n",
      "Epoch 00011: saving model to model_init_2022-06-1512_40_03.652909/model-00011-1.14271-0.57164-1.37976-0.38000.h5\n",
      "16/16 [==============================] - 50s 3s/step - loss: 1.1427 - categorical_accuracy: 0.5716 - val_loss: 1.3798 - val_categorical_accuracy: 0.3800 - lr: 0.0020\n",
      "Epoch 12/20\n",
      "16/16 [==============================] - ETA: 0s - loss: 1.0229 - categorical_accuracy: 0.6305\n",
      "Epoch 00012: saving model to model_init_2022-06-1512_40_03.652909/model-00012-1.02292-0.63047-1.35402-0.37000.h5\n",
      "16/16 [==============================] - 48s 3s/step - loss: 1.0229 - categorical_accuracy: 0.6305 - val_loss: 1.3540 - val_categorical_accuracy: 0.3700 - lr: 0.0020\n",
      "Epoch 13/20\n",
      "16/16 [==============================] - ETA: 0s - loss: 1.0161 - categorical_accuracy: 0.6033\n",
      "Epoch 00013: saving model to model_init_2022-06-1512_40_03.652909/model-00013-1.01608-0.60332-1.28604-0.44000.h5\n",
      "16/16 [==============================] - 48s 3s/step - loss: 1.0161 - categorical_accuracy: 0.6033 - val_loss: 1.2860 - val_categorical_accuracy: 0.4400 - lr: 0.0020\n",
      "Epoch 14/20\n",
      "16/16 [==============================] - ETA: 0s - loss: 0.8609 - categorical_accuracy: 0.6848\n",
      "Epoch 00014: saving model to model_init_2022-06-1512_40_03.652909/model-00014-0.86093-0.68477-1.23334-0.58000.h5\n",
      "16/16 [==============================] - 49s 3s/step - loss: 0.8609 - categorical_accuracy: 0.6848 - val_loss: 1.2333 - val_categorical_accuracy: 0.5800 - lr: 0.0020\n",
      "Epoch 15/20\n",
      "16/16 [==============================] - ETA: 0s - loss: 0.8781 - categorical_accuracy: 0.6410\n",
      "Epoch 00015: saving model to model_init_2022-06-1512_40_03.652909/model-00015-0.87813-0.64103-1.22503-0.55000.h5\n",
      "16/16 [==============================] - 47s 3s/step - loss: 0.8781 - categorical_accuracy: 0.6410 - val_loss: 1.2250 - val_categorical_accuracy: 0.5500 - lr: 0.0020\n",
      "Epoch 16/20\n",
      "16/16 [==============================] - ETA: 0s - loss: 0.8155 - categorical_accuracy: 0.6667\n",
      "Epoch 00016: saving model to model_init_2022-06-1512_40_03.652909/model-00016-0.81547-0.66667-1.22982-0.48000.h5\n",
      "16/16 [==============================] - 49s 3s/step - loss: 0.8155 - categorical_accuracy: 0.6667 - val_loss: 1.2298 - val_categorical_accuracy: 0.4800 - lr: 0.0020\n",
      "Epoch 17/20\n",
      "16/16 [==============================] - ETA: 0s - loss: 0.8326 - categorical_accuracy: 0.6802\n",
      "Epoch 00017: saving model to model_init_2022-06-1512_40_03.652909/model-00017-0.83257-0.68024-1.17829-0.51000.h5\n",
      "16/16 [==============================] - 49s 3s/step - loss: 0.8326 - categorical_accuracy: 0.6802 - val_loss: 1.1783 - val_categorical_accuracy: 0.5100 - lr: 0.0020\n",
      "Epoch 18/20\n",
      "16/16 [==============================] - ETA: 0s - loss: 0.8117 - categorical_accuracy: 0.6923\n",
      "Epoch 00018: saving model to model_init_2022-06-1512_40_03.652909/model-00018-0.81165-0.69231-1.19508-0.60000.h5\n",
      "16/16 [==============================] - 50s 3s/step - loss: 0.8117 - categorical_accuracy: 0.6923 - val_loss: 1.1951 - val_categorical_accuracy: 0.6000 - lr: 0.0020\n",
      "Epoch 19/20\n",
      "16/16 [==============================] - ETA: 0s - loss: 0.7364 - categorical_accuracy: 0.7089\n",
      "Epoch 00019: saving model to model_init_2022-06-1512_40_03.652909/model-00019-0.73640-0.70890-1.13434-0.54000.h5\n",
      "16/16 [==============================] - 51s 3s/step - loss: 0.7364 - categorical_accuracy: 0.7089 - val_loss: 1.1343 - val_categorical_accuracy: 0.5400 - lr: 0.0020\n",
      "Epoch 20/20\n",
      "16/16 [==============================] - ETA: 0s - loss: 0.8041 - categorical_accuracy: 0.6953\n",
      "Epoch 00020: saving model to model_init_2022-06-1512_40_03.652909/model-00020-0.80409-0.69532-0.97944-0.71000.h5\n",
      "16/16 [==============================] - 52s 3s/step - loss: 0.8041 - categorical_accuracy: 0.6953 - val_loss: 0.9794 - val_categorical_accuracy: 0.7100 - lr: 0.0020\n"
     ]
    },
    {
     "data": {
      "text/plain": [
       "<keras.callbacks.History at 0x7f8d647a78b0>"
      ]
     },
     "execution_count": 61,
     "metadata": {},
     "output_type": "execute_result"
    }
   ],
   "source": [
    "model_9.fit_generator(train_generator, steps_per_epoch=steps_per_epoch, epochs=20, verbose=1,\n",
    "                    callbacks=callbacks_list, validation_data=val_generator,\n",
    "                    validation_steps=validation_steps, class_weight=None, workers=1, initial_epoch=0)"
   ]
  },
  {
   "cell_type": "code",
   "execution_count": 62,
   "metadata": {},
   "outputs": [
    {
     "data": {
      "image/png": "[encoded data removed]",
      "text/plain": [
       "<Figure size 1080x288 with 2 Axes>"
      ]
     },
     "metadata": {
      "needs_background": "light"
     },
     "output_type": "display_data"
    }
   ],
   "source": [
    "plot(model_9.history)"
   ]
  },
  {
   "cell_type": "code",
   "execution_count": 98,
   "metadata": {},
   "outputs": [],
   "source": [
    "# Building model 10\n",
    "model_10 = Sequential([\n",
    "                    layers.Conv3D(32, (3,3,3), input_shape=(frames,img_height,img_width,3),padding=\"same\", activation=\"relu\"),\n",
    "                    layers.MaxPooling3D(pool_size=(2,2,2)),\n",
    "                    layers.Conv3D(32, (3,3,3), padding=\"same\", activation=\"relu\"),\n",
    "                    layers.MaxPooling3D(pool_size=(2,2,2)),\n",
    "                    layers.Conv3D(64, (3,3,3), padding=\"same\", activation=\"relu\"),\n",
    "                    layers.MaxPooling3D(pool_size=(2,2,2)),\n",
    "                    layers.Dropout(0.25),\n",
    "\n",
    "                    layers.Flatten(),\n",
    "                    layers.Dense(128, activation=\"relu\"),\n",
    "                    layers.Dense(64, activation=\"relu\"),\n",
    "                    layers.Dropout(0.25),\n",
    "                    layers.Dense(num_classes, activation=\"softmax\")\n",
    "])"
   ]
  },
  {
   "cell_type": "code",
   "execution_count": 99,
   "metadata": {},
   "outputs": [
    {
     "name": "stdout",
     "output_type": "stream",
     "text": [
      "Model: \"sequential_12\"\n",
      "_________________________________________________________________\n",
      " Layer (type)                Output Shape              Param #   \n",
      "=================================================================\n",
      " conv3d_45 (Conv3D)          (None, 20, 140, 140, 32)  2624      \n",
      "                                                                 \n",
      " max_pooling3d_36 (MaxPoolin  (None, 10, 70, 70, 32)   0         \n",
      " g3D)                                                            \n",
      "                                                                 \n",
      " conv3d_46 (Conv3D)          (None, 10, 70, 70, 32)    27680     \n",
      "                                                                 \n",
      " max_pooling3d_37 (MaxPoolin  (None, 5, 35, 35, 32)    0         \n",
      " g3D)                                                            \n",
      "                                                                 \n",
      " conv3d_47 (Conv3D)          (None, 5, 35, 35, 64)     55360     \n",
      "                                                                 \n",
      " max_pooling3d_38 (MaxPoolin  (None, 2, 17, 17, 64)    0         \n",
      " g3D)                                                            \n",
      "                                                                 \n",
      " dropout_19 (Dropout)        (None, 2, 17, 17, 64)     0         \n",
      "                                                                 \n",
      " flatten_12 (Flatten)        (None, 36992)             0         \n",
      "                                                                 \n",
      " dense_26 (Dense)            (None, 128)               4735104   \n",
      "                                                                 \n",
      " dense_27 (Dense)            (None, 64)                8256      \n",
      "                                                                 \n",
      " dropout_20 (Dropout)        (None, 64)                0         \n",
      "                                                                 \n",
      " dense_28 (Dense)            (None, 5)                 325       \n",
      "                                                                 \n",
      "=================================================================\n",
      "Total params: 4,829,349\n",
      "Trainable params: 4,829,349\n",
      "Non-trainable params: 0\n",
      "_________________________________________________________________\n"
     ]
    }
   ],
   "source": [
    "# Compiling model 10\n",
    "model_10.compile(optimizer=\"sgd\", loss='categorical_crossentropy', metrics=['categorical_accuracy'])\n",
    "model_10.summary()"
   ]
  },
  {
   "cell_type": "code",
   "execution_count": 103,
   "metadata": {},
   "outputs": [
    {
     "name": "stdout",
     "output_type": "stream",
     "text": [
      "Epoch 1/10\n",
      "16/16 [==============================] - ETA: 0s - loss: 1.6026 - categorical_accuracy: 0.2353\n",
      "Epoch 00001: saving model to model_init_2022-06-1419_56_18.589262/model-00001-1.60264-0.23529-1.57766-0.31000.h5\n",
      "16/16 [==============================] - 60s 4s/step - loss: 1.6026 - categorical_accuracy: 0.2353 - val_loss: 1.5777 - val_categorical_accuracy: 0.3100 - lr: 0.0100\n",
      "Epoch 2/10\n",
      "16/16 [==============================] - ETA: 0s - loss: 1.5974 - categorical_accuracy: 0.2217\n",
      "Epoch 00002: saving model to model_init_2022-06-1419_56_18.589262/model-00002-1.59736-0.22172-1.57834-0.24000.h5\n",
      "16/16 [==============================] - 61s 4s/step - loss: 1.5974 - categorical_accuracy: 0.2217 - val_loss: 1.5783 - val_categorical_accuracy: 0.2400 - lr: 0.0100\n",
      "Epoch 3/10\n",
      "16/16 [==============================] - ETA: 0s - loss: 1.5814 - categorical_accuracy: 0.2911\n",
      "Epoch 00003: saving model to model_init_2022-06-1419_56_18.589262/model-00003-1.58137-0.29110-1.53436-0.29000.h5\n",
      "16/16 [==============================] - 61s 4s/step - loss: 1.5814 - categorical_accuracy: 0.2911 - val_loss: 1.5344 - val_categorical_accuracy: 0.2900 - lr: 0.0100\n",
      "Epoch 4/10\n",
      "16/16 [==============================] - ETA: 0s - loss: 1.5733 - categorical_accuracy: 0.2715\n",
      "Epoch 00004: saving model to model_init_2022-06-1419_56_18.589262/model-00004-1.57333-0.27149-1.55050-0.37000.h5\n",
      "16/16 [==============================] - 59s 4s/step - loss: 1.5733 - categorical_accuracy: 0.2715 - val_loss: 1.5505 - val_categorical_accuracy: 0.3700 - lr: 0.0100\n",
      "Epoch 5/10\n",
      "16/16 [==============================] - ETA: 0s - loss: 1.5366 - categorical_accuracy: 0.3032\n",
      "Epoch 00005: saving model to model_init_2022-06-1419_56_18.589262/model-00005-1.53663-0.30317-1.49284-0.45000.h5\n",
      "16/16 [==============================] - 61s 4s/step - loss: 1.5366 - categorical_accuracy: 0.3032 - val_loss: 1.4928 - val_categorical_accuracy: 0.4500 - lr: 0.0100\n",
      "Epoch 6/10\n",
      "16/16 [==============================] - ETA: 0s - loss: 1.5091 - categorical_accuracy: 0.3183\n",
      "Epoch 00006: saving model to model_init_2022-06-1419_56_18.589262/model-00006-1.50910-0.31825-1.48554-0.45000.h5\n",
      "16/16 [==============================] - 59s 4s/step - loss: 1.5091 - categorical_accuracy: 0.3183 - val_loss: 1.4855 - val_categorical_accuracy: 0.4500 - lr: 0.0100\n",
      "Epoch 7/10\n",
      "16/16 [==============================] - ETA: 0s - loss: 1.5019 - categorical_accuracy: 0.3484\n",
      "Epoch 00007: saving model to model_init_2022-06-1419_56_18.589262/model-00007-1.50191-0.34842-1.41469-0.50000.h5\n",
      "16/16 [==============================] - 58s 4s/step - loss: 1.5019 - categorical_accuracy: 0.3484 - val_loss: 1.4147 - val_categorical_accuracy: 0.5000 - lr: 0.0100\n",
      "Epoch 8/10\n",
      "16/16 [==============================] - ETA: 0s - loss: 1.4417 - categorical_accuracy: 0.3741\n",
      "Epoch 00008: saving model to model_init_2022-06-1419_56_18.589262/model-00008-1.44171-0.37406-1.40188-0.48000.h5\n",
      "16/16 [==============================] - 61s 4s/step - loss: 1.4417 - categorical_accuracy: 0.3741 - val_loss: 1.4019 - val_categorical_accuracy: 0.4800 - lr: 0.0100\n",
      "Epoch 9/10\n",
      "16/16 [==============================] - ETA: 0s - loss: 1.3942 - categorical_accuracy: 0.4359\n",
      "Epoch 00009: saving model to model_init_2022-06-1419_56_18.589262/model-00009-1.39424-0.43590-1.35290-0.52000.h5\n",
      "16/16 [==============================] - 60s 4s/step - loss: 1.3942 - categorical_accuracy: 0.4359 - val_loss: 1.3529 - val_categorical_accuracy: 0.5200 - lr: 0.0100\n",
      "Epoch 10/10\n",
      "16/16 [==============================] - ETA: 0s - loss: 1.4008 - categorical_accuracy: 0.3997\n",
      "Epoch 00010: saving model to model_init_2022-06-1419_56_18.589262/model-00010-1.40080-0.39970-1.66916-0.23000.h5\n",
      "16/16 [==============================] - 57s 4s/step - loss: 1.4008 - categorical_accuracy: 0.3997 - val_loss: 1.6692 - val_categorical_accuracy: 0.2300 - lr: 0.0100\n"
     ]
    },
    {
     "data": {
      "text/plain": [
       "<keras.callbacks.History at 0x7fee185eeb80>"
      ]
     },
     "execution_count": 103,
     "metadata": {},
     "output_type": "execute_result"
    }
   ],
   "source": [
    "# Fitting model 10\n",
    "model_10.fit_generator(train_generator, steps_per_epoch=steps_per_epoch, epochs=10, verbose=1,\n",
    "                    callbacks=callbacks_list, validation_data=val_generator,\n",
    "                    validation_steps=validation_steps, class_weight=None, workers=1, initial_epoch=0)"
   ]
  },
  {
   "cell_type": "code",
   "execution_count": 105,
   "metadata": {},
   "outputs": [
    {
     "name": "stdout",
     "output_type": "stream",
     "text": [
      "Model: \"sequential_13\"\n",
      "_________________________________________________________________\n",
      " Layer (type)                Output Shape              Param #   \n",
      "=================================================================\n",
      " conv3d_48 (Conv3D)          (None, 20, 140, 140, 32)  2624      \n",
      "                                                                 \n",
      " max_pooling3d_39 (MaxPoolin  (None, 10, 70, 70, 32)   0         \n",
      " g3D)                                                            \n",
      "                                                                 \n",
      " conv3d_49 (Conv3D)          (None, 10, 70, 70, 32)    27680     \n",
      "                                                                 \n",
      " max_pooling3d_40 (MaxPoolin  (None, 5, 35, 35, 32)    0         \n",
      " g3D)                                                            \n",
      "                                                                 \n",
      " conv3d_50 (Conv3D)          (None, 5, 35, 35, 64)     55360     \n",
      "                                                                 \n",
      " max_pooling3d_41 (MaxPoolin  (None, 2, 17, 17, 64)    0         \n",
      " g3D)                                                            \n",
      "                                                                 \n",
      " dropout_21 (Dropout)        (None, 2, 17, 17, 64)     0         \n",
      "                                                                 \n",
      " flatten_13 (Flatten)        (None, 36992)             0         \n",
      "                                                                 \n",
      " dense_29 (Dense)            (None, 128)               4735104   \n",
      "                                                                 \n",
      " dense_30 (Dense)            (None, 64)                8256      \n",
      "                                                                 \n",
      " dense_31 (Dense)            (None, 5)                 325       \n",
      "                                                                 \n",
      "=================================================================\n",
      "Total params: 4,829,349\n",
      "Trainable params: 4,829,349\n",
      "Non-trainable params: 0\n",
      "_________________________________________________________________\n"
     ]
    }
   ],
   "source": [
    "# Building model 11\n",
    "model_11 = Sequential([\n",
    "                    layers.Conv3D(32, (3,3,3), input_shape=(frames,img_height,img_width,3),padding=\"same\", activation=\"relu\"),\n",
    "                    layers.MaxPooling3D(pool_size=(2,2,2)),\n",
    "                    layers.Conv3D(32, (3,3,3), padding=\"same\", activation=\"relu\"),\n",
    "                    layers.MaxPooling3D(pool_size=(2,2,2)),\n",
    "                    layers.Conv3D(64, (3,3,3), padding=\"same\", activation=\"relu\"),\n",
    "                    layers.MaxPooling3D(pool_size=(2,2,2)),\n",
    "                    layers.Dropout(0.25),\n",
    "\n",
    "                    layers.Flatten(),\n",
    "                    layers.Dense(128, activation=\"relu\"),\n",
    "                    layers.Dense(64, activation=\"relu\"),\n",
    "                    layers.Dense(num_classes, activation=\"softmax\")\n",
    "])\n",
    "# Compiling model 11\n",
    "model_11.compile(optimizer=\"adam\", loss='categorical_crossentropy', metrics=['categorical_accuracy'])\n",
    "model_11.summary()"
   ]
  },
  {
   "cell_type": "code",
   "execution_count": 107,
   "metadata": {},
   "outputs": [
    {
     "name": "stdout",
     "output_type": "stream",
     "text": [
      "Epoch 1/10\n",
      "16/16 [==============================] - ETA: 0s - loss: 1.7300 - categorical_accuracy: 0.1991\n",
      "Epoch 00001: saving model to model_init_2022-06-1420_09_40.067462/model-00001-1.72998-0.19910-1.59087-0.23000.h5\n",
      "16/16 [==============================] - 62s 4s/step - loss: 1.7300 - categorical_accuracy: 0.1991 - val_loss: 1.5909 - val_categorical_accuracy: 0.2300 - lr: 0.0010\n",
      "Epoch 2/10\n",
      "16/16 [==============================] - ETA: 0s - loss: 1.5801 - categorical_accuracy: 0.2459\n",
      "Epoch 00002: saving model to model_init_2022-06-1420_09_40.067462/model-00002-1.58010-0.24585-1.53613-0.25000.h5\n",
      "16/16 [==============================] - 60s 4s/step - loss: 1.5801 - categorical_accuracy: 0.2459 - val_loss: 1.5361 - val_categorical_accuracy: 0.2500 - lr: 0.0010\n",
      "Epoch 3/10\n",
      "16/16 [==============================] - ETA: 0s - loss: 1.4460 - categorical_accuracy: 0.3756\n",
      "Epoch 00003: saving model to model_init_2022-06-1420_09_40.067462/model-00003-1.44600-0.37557-1.44535-0.39000.h5\n",
      "16/16 [==============================] - 59s 4s/step - loss: 1.4460 - categorical_accuracy: 0.3756 - val_loss: 1.4454 - val_categorical_accuracy: 0.3900 - lr: 0.0010\n",
      "Epoch 4/10\n",
      "16/16 [==============================] - ETA: 0s - loss: 1.1791 - categorical_accuracy: 0.5415\n",
      "Epoch 00004: saving model to model_init_2022-06-1420_09_40.067462/model-00004-1.17910-0.54148-1.35860-0.46000.h5\n",
      "16/16 [==============================] - 59s 4s/step - loss: 1.1791 - categorical_accuracy: 0.5415 - val_loss: 1.3586 - val_categorical_accuracy: 0.4600 - lr: 0.0010\n",
      "Epoch 5/10\n",
      "16/16 [==============================] - ETA: 0s - loss: 1.1154 - categorical_accuracy: 0.5732\n",
      "Epoch 00005: saving model to model_init_2022-06-1420_09_40.067462/model-00005-1.11543-0.57315-1.05788-0.59000.h5\n",
      "16/16 [==============================] - 61s 4s/step - loss: 1.1154 - categorical_accuracy: 0.5732 - val_loss: 1.0579 - val_categorical_accuracy: 0.5900 - lr: 0.0010\n",
      "Epoch 6/10\n",
      "16/16 [==============================] - ETA: 0s - loss: 0.8769 - categorical_accuracy: 0.6425\n",
      "Epoch 00006: saving model to model_init_2022-06-1420_09_40.067462/model-00006-0.87694-0.64253-0.98404-0.58000.h5\n",
      "16/16 [==============================] - 59s 4s/step - loss: 0.8769 - categorical_accuracy: 0.6425 - val_loss: 0.9840 - val_categorical_accuracy: 0.5800 - lr: 0.0010\n",
      "Epoch 7/10\n",
      "16/16 [==============================] - ETA: 0s - loss: 0.6606 - categorical_accuracy: 0.7315\n",
      "Epoch 00007: saving model to model_init_2022-06-1420_09_40.067462/model-00007-0.66061-0.73152-1.00514-0.63000.h5\n",
      "16/16 [==============================] - 60s 4s/step - loss: 0.6606 - categorical_accuracy: 0.7315 - val_loss: 1.0051 - val_categorical_accuracy: 0.6300 - lr: 0.0010\n",
      "Epoch 8/10\n",
      "16/16 [==============================] - ETA: 0s - loss: 0.5835 - categorical_accuracy: 0.7934\n",
      "Epoch 00008: saving model to model_init_2022-06-1420_09_40.067462/model-00008-0.58347-0.79336-1.01364-0.64000.h5\n",
      "16/16 [==============================] - 60s 4s/step - loss: 0.5835 - categorical_accuracy: 0.7934 - val_loss: 1.0136 - val_categorical_accuracy: 0.6400 - lr: 0.0010\n",
      "Epoch 9/10\n",
      "16/16 [==============================] - ETA: 0s - loss: 0.4141 - categorical_accuracy: 0.8371\n",
      "Epoch 00009: saving model to model_init_2022-06-1420_09_40.067462/model-00009-0.41415-0.83710-0.97751-0.64000.h5\n",
      "16/16 [==============================] - 60s 4s/step - loss: 0.4141 - categorical_accuracy: 0.8371 - val_loss: 0.9775 - val_categorical_accuracy: 0.6400 - lr: 0.0010\n",
      "Epoch 10/10\n",
      "16/16 [==============================] - ETA: 0s - loss: 0.3047 - categorical_accuracy: 0.8914\n",
      "Epoch 00010: saving model to model_init_2022-06-1420_09_40.067462/model-00010-0.30472-0.89140-0.86760-0.65000.h5\n",
      "16/16 [==============================] - 61s 4s/step - loss: 0.3047 - categorical_accuracy: 0.8914 - val_loss: 0.8676 - val_categorical_accuracy: 0.6500 - lr: 0.0010\n"
     ]
    },
    {
     "data": {
      "text/plain": [
       "<keras.callbacks.History at 0x7fee18424e80>"
      ]
     },
     "execution_count": 107,
     "metadata": {},
     "output_type": "execute_result"
    }
   ],
   "source": [
    "# Fitting model 11\n",
    "model_11.fit_generator(train_generator, steps_per_epoch=steps_per_epoch, epochs=10, verbose=1,\n",
    "                    callbacks=callbacks_list, validation_data=val_generator,\n",
    "                    validation_steps=validation_steps, class_weight=None, workers=1, initial_epoch=0)"
   ]
  },
  {
   "cell_type": "code",
   "execution_count": 108,
   "metadata": {},
   "outputs": [
    {
     "name": "stdout",
     "output_type": "stream",
     "text": [
      "Model: \"sequential_14\"\n",
      "_________________________________________________________________\n",
      " Layer (type)                Output Shape              Param #   \n",
      "=================================================================\n",
      " conv3d_51 (Conv3D)          (None, 20, 140, 140, 32)  2624      \n",
      "                                                                 \n",
      " max_pooling3d_42 (MaxPoolin  (None, 10, 70, 70, 32)   0         \n",
      " g3D)                                                            \n",
      "                                                                 \n",
      " conv3d_52 (Conv3D)          (None, 10, 70, 70, 32)    27680     \n",
      "                                                                 \n",
      " max_pooling3d_43 (MaxPoolin  (None, 5, 35, 35, 32)    0         \n",
      " g3D)                                                            \n",
      "                                                                 \n",
      " conv3d_53 (Conv3D)          (None, 5, 35, 35, 64)     55360     \n",
      "                                                                 \n",
      " max_pooling3d_44 (MaxPoolin  (None, 2, 17, 17, 64)    0         \n",
      " g3D)                                                            \n",
      "                                                                 \n",
      " dropout_22 (Dropout)        (None, 2, 17, 17, 64)     0         \n",
      "                                                                 \n",
      " flatten_14 (Flatten)        (None, 36992)             0         \n",
      "                                                                 \n",
      " dense_32 (Dense)            (None, 128)               4735104   \n",
      "                                                                 \n",
      " dense_33 (Dense)            (None, 64)                8256      \n",
      "                                                                 \n",
      " dense_34 (Dense)            (None, 5)                 325       \n",
      "                                                                 \n",
      "=================================================================\n",
      "Total params: 4,829,349\n",
      "Trainable params: 4,829,349\n",
      "Non-trainable params: 0\n",
      "_________________________________________________________________\n"
     ]
    }
   ],
   "source": [
    "# Building model 12\n",
    "model_12 = Sequential([\n",
    "                    layers.Conv3D(32, (3,3,3), input_shape=(frames,img_height,img_width,3),padding=\"same\", activation=\"relu\"),\n",
    "                    layers.MaxPooling3D(pool_size=(2,2,2)),\n",
    "                    layers.Conv3D(32, (3,3,3), padding=\"same\", activation=\"relu\"),\n",
    "                    layers.MaxPooling3D(pool_size=(2,2,2)),\n",
    "                    layers.Conv3D(64, (3,3,3), padding=\"same\", activation=\"relu\"),\n",
    "                    layers.MaxPooling3D(pool_size=(2,2,2)),\n",
    "                    layers.Dropout(0.5),\n",
    "\n",
    "                    layers.Flatten(),\n",
    "                    layers.Dense(128, activation=\"relu\"),\n",
    "                    layers.Dense(64, activation=\"relu\"),\n",
    "                    layers.Dense(num_classes, activation=\"softmax\")\n",
    "])\n",
    "# Compiling model 12\n",
    "model_12.compile(optimizer=\"adam\", loss='categorical_crossentropy', metrics=['categorical_accuracy'])\n",
    "model_12.summary()"
   ]
  },
  {
   "cell_type": "code",
   "execution_count": 110,
   "metadata": {},
   "outputs": [
    {
     "name": "stdout",
     "output_type": "stream",
     "text": [
      "Epoch 1/10\n",
      "16/16 [==============================] - ETA: 0s - loss: 1.7002 - categorical_accuracy: 0.2112\n",
      "Epoch 00001: saving model to model_init_2022-06-1420_22_02.797894/model-00001-1.70018-0.21116-1.56616-0.24000.h5\n",
      "16/16 [==============================] - 66s 4s/step - loss: 1.7002 - categorical_accuracy: 0.2112 - val_loss: 1.5662 - val_categorical_accuracy: 0.2400 - lr: 0.0010\n",
      "Epoch 2/10\n",
      "16/16 [==============================] - ETA: 0s - loss: 1.5570 - categorical_accuracy: 0.2640\n",
      "Epoch 00002: saving model to model_init_2022-06-1420_22_02.797894/model-00002-1.55704-0.26395-1.49621-0.51000.h5\n",
      "16/16 [==============================] - 60s 4s/step - loss: 1.5570 - categorical_accuracy: 0.2640 - val_loss: 1.4962 - val_categorical_accuracy: 0.5100 - lr: 0.0010\n",
      "Epoch 3/10\n",
      "16/16 [==============================] - ETA: 0s - loss: 1.3291 - categorical_accuracy: 0.4314\n",
      "Epoch 00003: saving model to model_init_2022-06-1420_22_02.797894/model-00003-1.32905-0.43137-1.20362-0.51000.h5\n",
      "16/16 [==============================] - 61s 4s/step - loss: 1.3291 - categorical_accuracy: 0.4314 - val_loss: 1.2036 - val_categorical_accuracy: 0.5100 - lr: 0.0010\n",
      "Epoch 4/10\n",
      "16/16 [==============================] - ETA: 0s - loss: 1.1300 - categorical_accuracy: 0.5716\n",
      "Epoch 00004: saving model to model_init_2022-06-1420_22_02.797894/model-00004-1.12997-0.57164-1.36180-0.44000.h5\n",
      "16/16 [==============================] - 61s 4s/step - loss: 1.1300 - categorical_accuracy: 0.5716 - val_loss: 1.3618 - val_categorical_accuracy: 0.4400 - lr: 0.0010\n",
      "Epoch 5/10\n",
      "16/16 [==============================] - ETA: 0s - loss: 0.9274 - categorical_accuracy: 0.6561\n",
      "Epoch 00005: saving model to model_init_2022-06-1420_22_02.797894/model-00005-0.92736-0.65611-1.15275-0.61000.h5\n",
      "16/16 [==============================] - 59s 4s/step - loss: 0.9274 - categorical_accuracy: 0.6561 - val_loss: 1.1528 - val_categorical_accuracy: 0.6100 - lr: 0.0010\n",
      "Epoch 6/10\n",
      "16/16 [==============================] - ETA: 0s - loss: 0.6549 - categorical_accuracy: 0.7722\n",
      "Epoch 00006: saving model to model_init_2022-06-1420_22_02.797894/model-00006-0.65487-0.77225-1.04340-0.61000.h5\n",
      "16/16 [==============================] - 61s 4s/step - loss: 0.6549 - categorical_accuracy: 0.7722 - val_loss: 1.0434 - val_categorical_accuracy: 0.6100 - lr: 0.0010\n",
      "Epoch 7/10\n",
      "16/16 [==============================] - ETA: 0s - loss: 0.5254 - categorical_accuracy: 0.8069\n",
      "Epoch 00007: saving model to model_init_2022-06-1420_22_02.797894/model-00007-0.52539-0.80694-0.97557-0.63000.h5\n",
      "16/16 [==============================] - 60s 4s/step - loss: 0.5254 - categorical_accuracy: 0.8069 - val_loss: 0.9756 - val_categorical_accuracy: 0.6300 - lr: 0.0010\n",
      "Epoch 8/10\n",
      "16/16 [==============================] - ETA: 0s - loss: 0.3768 - categorical_accuracy: 0.8703\n",
      "Epoch 00008: saving model to model_init_2022-06-1420_22_02.797894/model-00008-0.37683-0.87029-1.41346-0.57000.h5\n",
      "16/16 [==============================] - 59s 4s/step - loss: 0.3768 - categorical_accuracy: 0.8703 - val_loss: 1.4135 - val_categorical_accuracy: 0.5700 - lr: 0.0010\n",
      "Epoch 9/10\n",
      "16/16 [==============================] - ETA: 0s - loss: 0.3383 - categorical_accuracy: 0.8899\n",
      "Epoch 00009: saving model to model_init_2022-06-1420_22_02.797894/model-00009-0.33827-0.88989-1.37572-0.65000.h5\n",
      "16/16 [==============================] - 61s 4s/step - loss: 0.3383 - categorical_accuracy: 0.8899 - val_loss: 1.3757 - val_categorical_accuracy: 0.6500 - lr: 0.0010\n",
      "Epoch 10/10\n",
      "16/16 [==============================] - ETA: 0s - loss: 0.2737 - categorical_accuracy: 0.9095\n",
      "Epoch 00010: saving model to model_init_2022-06-1420_22_02.797894/model-00010-0.27374-0.90950-1.34618-0.61000.h5\n",
      "16/16 [==============================] - 61s 4s/step - loss: 0.2737 - categorical_accuracy: 0.9095 - val_loss: 1.3462 - val_categorical_accuracy: 0.6100 - lr: 0.0010\n"
     ]
    },
    {
     "data": {
      "text/plain": [
       "<keras.callbacks.History at 0x7fee18304100>"
      ]
     },
     "execution_count": 110,
     "metadata": {},
     "output_type": "execute_result"
    }
   ],
   "source": [
    "# Fitting model 12\n",
    "model_12.fit_generator(train_generator, steps_per_epoch=steps_per_epoch, epochs=10, verbose=1,\n",
    "                    callbacks=callbacks_list, validation_data=val_generator,\n",
    "                    validation_steps=validation_steps, class_weight=None, workers=1, initial_epoch=0)"
   ]
  },
  {
   "cell_type": "markdown",
   "metadata": {},
   "source": [
    "### **CNN + RNN Stacked Architecture**:"
   ]
  },
  {
   "cell_type": "code",
   "execution_count": 12,
   "metadata": {},
   "outputs": [],
   "source": [
    "# Building model 13 using GRU\n",
    "frames = 20\n",
    "img_height = 140\n",
    "img_width = 140\n",
    "batch_size=20\n",
    "input_shape=(frames,img_height,img_width,3)\n",
    "model_13 = Sequential([\n",
    "                    (layers.TimeDistributed(Conv2D(32, (3,3),padding=\"same\", activation=\"relu\"),  \n",
    "                                                  input_shape=input_shape)),\n",
    "                    layers.TimeDistributed(BatchNormalization()),\n",
    "                    layers.TimeDistributed(MaxPooling2D(pool_size=(2,2))),\n",
    "    \n",
    "                    layers.TimeDistributed(Conv2D(32, (3,3),padding=\"same\", activation=\"relu\")),\n",
    "                    layers.TimeDistributed(BatchNormalization()),\n",
    "                    layers.TimeDistributed(MaxPooling2D(pool_size=(2,2))),\n",
    "    \n",
    "                    layers.TimeDistributed(Conv2D(32, (3,3),padding=\"same\", activation=\"relu\")),\n",
    "                    layers.TimeDistributed(BatchNormalization()),\n",
    "                    layers.TimeDistributed(MaxPooling2D(pool_size=(2,2))),\n",
    "    \n",
    "                    layers.TimeDistributed(Conv2D(32, (3,3),padding=\"same\", activation=\"relu\")),\n",
    "                    layers.TimeDistributed(BatchNormalization()),\n",
    "                    layers.TimeDistributed(MaxPooling2D(pool_size=(2,2))),\n",
    "\n",
    "                    layers.TimeDistributed(Flatten()),\n",
    "    \n",
    "                    layers.GRU(64),\n",
    "                    layers.Dropout(0.25),\n",
    "    \n",
    "                    layers.Dense(64, activation=\"relu\"),\n",
    "                    layers.Dropout(0.25),\n",
    "    \n",
    "                    layers.Dense(num_classes, activation=\"softmax\")\n",
    "])"
   ]
  },
  {
   "cell_type": "code",
   "execution_count": 13,
   "metadata": {},
   "outputs": [],
   "source": [
    "# Compiling the model\n",
    "optimiser = tf.keras.optimizers.Adam(lr=0.0002)\n",
    "model_13.compile(optimizer=optimiser, loss='categorical_crossentropy', metrics=['categorical_accuracy'])"
   ]
  },
  {
   "cell_type": "code",
   "execution_count": 14,
   "metadata": {},
   "outputs": [
    {
     "name": "stdout",
     "output_type": "stream",
     "text": [
      "Model: \"sequential_1\"\n",
      "_________________________________________________________________\n",
      " Layer (type)                Output Shape              Param #   \n",
      "=================================================================\n",
      " time_distributed (TimeDistr  (None, 20, 140, 140, 32)  896      \n",
      " ibuted)                                                         \n",
      "                                                                 \n",
      " time_distributed_1 (TimeDis  (None, 20, 140, 140, 32)  128      \n",
      " tributed)                                                       \n",
      "                                                                 \n",
      " time_distributed_2 (TimeDis  (None, 20, 70, 70, 32)   0         \n",
      " tributed)                                                       \n",
      "                                                                 \n",
      " time_distributed_3 (TimeDis  (None, 20, 70, 70, 32)   9248      \n",
      " tributed)                                                       \n",
      "                                                                 \n",
      " time_distributed_4 (TimeDis  (None, 20, 70, 70, 32)   128       \n",
      " tributed)                                                       \n",
      "                                                                 \n",
      " time_distributed_5 (TimeDis  (None, 20, 35, 35, 32)   0         \n",
      " tributed)                                                       \n",
      "                                                                 \n",
      " time_distributed_6 (TimeDis  (None, 20, 35, 35, 32)   9248      \n",
      " tributed)                                                       \n",
      "                                                                 \n",
      " time_distributed_7 (TimeDis  (None, 20, 35, 35, 32)   128       \n",
      " tributed)                                                       \n",
      "                                                                 \n",
      " time_distributed_8 (TimeDis  (None, 20, 17, 17, 32)   0         \n",
      " tributed)                                                       \n",
      "                                                                 \n",
      " time_distributed_9 (TimeDis  (None, 20, 17, 17, 32)   9248      \n",
      " tributed)                                                       \n",
      "                                                                 \n",
      " time_distributed_10 (TimeDi  (None, 20, 17, 17, 32)   128       \n",
      " stributed)                                                      \n",
      "                                                                 \n",
      " time_distributed_11 (TimeDi  (None, 20, 8, 8, 32)     0         \n",
      " stributed)                                                      \n",
      "                                                                 \n",
      " time_distributed_12 (TimeDi  (None, 20, 2048)         0         \n",
      " stributed)                                                      \n",
      "                                                                 \n",
      " gru (GRU)                   (None, 64)                405888    \n",
      "                                                                 \n",
      " dropout_1 (Dropout)         (None, 64)                0         \n",
      "                                                                 \n",
      " dense_2 (Dense)             (None, 64)                4160      \n",
      "                                                                 \n",
      " dropout_2 (Dropout)         (None, 64)                0         \n",
      "                                                                 \n",
      " dense_3 (Dense)             (None, 5)                 325       \n",
      "                                                                 \n",
      "=================================================================\n",
      "Total params: 439,525\n",
      "Trainable params: 439,269\n",
      "Non-trainable params: 256\n",
      "_________________________________________________________________\n"
     ]
    }
   ],
   "source": [
    "# Checking the summary\n",
    "model_13.summary()"
   ]
  },
  {
   "cell_type": "code",
   "execution_count": 16,
   "metadata": {},
   "outputs": [
    {
     "name": "stdout",
     "output_type": "stream",
     "text": [
      "Epoch 1/20\n",
      "16/16 [==============================] - ETA: 0s - loss: 1.6282 - categorical_accuracy: 0.2821source path =  datasets/Project_data/val ; batch size =  42\n",
      "\n",
      "Epoch 00001: saving model to model_init_2022-06-1513_50_47.994374/model-00001-1.62819-0.28205-1.62516-0.21000.h5\n",
      "16/16 [==============================] - 68s 4s/step - loss: 1.6282 - categorical_accuracy: 0.2821 - val_loss: 1.6252 - val_categorical_accuracy: 0.2100 - lr: 2.0000e-04\n",
      "Epoch 2/20\n",
      "16/16 [==============================] - ETA: 0s - loss: 1.3243 - categorical_accuracy: 0.4495\n",
      "Epoch 00002: saving model to model_init_2022-06-1513_50_47.994374/model-00002-1.32430-0.44947-1.71421-0.15000.h5\n",
      "16/16 [==============================] - 68s 4s/step - loss: 1.3243 - categorical_accuracy: 0.4495 - val_loss: 1.7142 - val_categorical_accuracy: 0.1500 - lr: 2.0000e-04\n",
      "Epoch 3/20\n",
      "16/16 [==============================] - ETA: 0s - loss: 1.1896 - categorical_accuracy: 0.5173\n",
      "Epoch 00003: saving model to model_init_2022-06-1513_50_47.994374/model-00003-1.18960-0.51735-1.88776-0.14000.h5\n",
      "16/16 [==============================] - 67s 4s/step - loss: 1.1896 - categorical_accuracy: 0.5173 - val_loss: 1.8878 - val_categorical_accuracy: 0.1400 - lr: 2.0000e-04\n",
      "Epoch 4/20\n",
      "16/16 [==============================] - ETA: 0s - loss: 0.9883 - categorical_accuracy: 0.6606\n",
      "Epoch 00004: saving model to model_init_2022-06-1513_50_47.994374/model-00004-0.98832-0.66063-2.02553-0.17000.h5\n",
      "16/16 [==============================] - 67s 4s/step - loss: 0.9883 - categorical_accuracy: 0.6606 - val_loss: 2.0255 - val_categorical_accuracy: 0.1700 - lr: 2.0000e-04\n",
      "Epoch 5/20\n",
      "16/16 [==============================] - ETA: 0s - loss: 0.9351 - categorical_accuracy: 0.6682\n",
      "Epoch 00005: saving model to model_init_2022-06-1513_50_47.994374/model-00005-0.93514-0.66817-2.08034-0.25000.h5\n",
      "\n",
      "Epoch 00005: ReduceLROnPlateau reducing learning rate to 3.9999998989515007e-05.\n",
      "16/16 [==============================] - 69s 5s/step - loss: 0.9351 - categorical_accuracy: 0.6682 - val_loss: 2.0803 - val_categorical_accuracy: 0.2500 - lr: 2.0000e-04\n",
      "Epoch 6/20\n",
      "16/16 [==============================] - ETA: 0s - loss: 0.7862 - categorical_accuracy: 0.7526\n",
      "Epoch 00006: saving model to model_init_2022-06-1513_50_47.994374/model-00006-0.78622-0.75264-2.26247-0.25000.h5\n",
      "16/16 [==============================] - 68s 5s/step - loss: 0.7862 - categorical_accuracy: 0.7526 - val_loss: 2.2625 - val_categorical_accuracy: 0.2500 - lr: 4.0000e-05\n",
      "Epoch 7/20\n",
      "16/16 [==============================] - ETA: 0s - loss: 0.7765 - categorical_accuracy: 0.7360\n",
      "Epoch 00007: saving model to model_init_2022-06-1513_50_47.994374/model-00007-0.77653-0.73605-2.28919-0.23000.h5\n",
      "16/16 [==============================] - 66s 4s/step - loss: 0.7765 - categorical_accuracy: 0.7360 - val_loss: 2.2892 - val_categorical_accuracy: 0.2300 - lr: 4.0000e-05\n",
      "Epoch 8/20\n",
      "16/16 [==============================] - ETA: 0s - loss: 0.7612 - categorical_accuracy: 0.7692\n",
      "Epoch 00008: saving model to model_init_2022-06-1513_50_47.994374/model-00008-0.76124-0.76923-2.54479-0.15000.h5\n",
      "16/16 [==============================] - 63s 4s/step - loss: 0.7612 - categorical_accuracy: 0.7692 - val_loss: 2.5448 - val_categorical_accuracy: 0.1500 - lr: 4.0000e-05\n",
      "Epoch 9/20\n",
      "16/16 [==============================] - ETA: 0s - loss: 0.7180 - categorical_accuracy: 0.7964\n",
      "Epoch 00009: saving model to model_init_2022-06-1513_50_47.994374/model-00009-0.71795-0.79638-2.24033-0.27000.h5\n",
      "\n",
      "Epoch 00009: ReduceLROnPlateau reducing learning rate to 7.999999797903002e-06.\n",
      "16/16 [==============================] - 63s 4s/step - loss: 0.7180 - categorical_accuracy: 0.7964 - val_loss: 2.2403 - val_categorical_accuracy: 0.2700 - lr: 4.0000e-05\n",
      "Epoch 10/20\n",
      "16/16 [==============================] - ETA: 0s - loss: 0.7092 - categorical_accuracy: 0.7768\n",
      "Epoch 00010: saving model to model_init_2022-06-1513_50_47.994374/model-00010-0.70918-0.77677-2.38267-0.20000.h5\n",
      "16/16 [==============================] - 64s 4s/step - loss: 0.7092 - categorical_accuracy: 0.7768 - val_loss: 2.3827 - val_categorical_accuracy: 0.2000 - lr: 8.0000e-06\n",
      "Epoch 11/20\n",
      "16/16 [==============================] - ETA: 0s - loss: 0.7094 - categorical_accuracy: 0.8009\n",
      "Epoch 00011: saving model to model_init_2022-06-1513_50_47.994374/model-00011-0.70936-0.80090-2.47745-0.16000.h5\n",
      "16/16 [==============================] - 65s 4s/step - loss: 0.7094 - categorical_accuracy: 0.8009 - val_loss: 2.4775 - val_categorical_accuracy: 0.1600 - lr: 8.0000e-06\n",
      "Epoch 12/20\n",
      "16/16 [==============================] - ETA: 0s - loss: 0.6832 - categorical_accuracy: 0.8175\n",
      "Epoch 00012: saving model to model_init_2022-06-1513_50_47.994374/model-00012-0.68316-0.81750-2.45284-0.22000.h5\n",
      "16/16 [==============================] - 65s 4s/step - loss: 0.6832 - categorical_accuracy: 0.8175 - val_loss: 2.4528 - val_categorical_accuracy: 0.2200 - lr: 8.0000e-06\n",
      "Epoch 13/20\n",
      "16/16 [==============================] - ETA: 0s - loss: 0.6949 - categorical_accuracy: 0.8009\n",
      "Epoch 00013: saving model to model_init_2022-06-1513_50_47.994374/model-00013-0.69490-0.80090-2.39828-0.22000.h5\n",
      "\n",
      "Epoch 00013: ReduceLROnPlateau reducing learning rate to 1.5999999959603884e-06.\n",
      "16/16 [==============================] - 67s 4s/step - loss: 0.6949 - categorical_accuracy: 0.8009 - val_loss: 2.3983 - val_categorical_accuracy: 0.2200 - lr: 8.0000e-06\n",
      "Epoch 14/20\n",
      "16/16 [==============================] - ETA: 0s - loss: 0.6805 - categorical_accuracy: 0.8250\n",
      "Epoch 00014: saving model to model_init_2022-06-1513_50_47.994374/model-00014-0.68051-0.82504-2.34106-0.22000.h5\n",
      "16/16 [==============================] - 70s 5s/step - loss: 0.6805 - categorical_accuracy: 0.8250 - val_loss: 2.3411 - val_categorical_accuracy: 0.2200 - lr: 1.6000e-06\n",
      "Epoch 15/20\n",
      "16/16 [==============================] - ETA: 0s - loss: 0.6883 - categorical_accuracy: 0.8100\n",
      "Epoch 00015: saving model to model_init_2022-06-1513_50_47.994374/model-00015-0.68827-0.80995-2.34281-0.23000.h5\n",
      "16/16 [==============================] - 64s 4s/step - loss: 0.6883 - categorical_accuracy: 0.8100 - val_loss: 2.3428 - val_categorical_accuracy: 0.2300 - lr: 1.6000e-06\n",
      "Epoch 16/20\n",
      "16/16 [==============================] - ETA: 0s - loss: 0.6844 - categorical_accuracy: 0.7888\n",
      "Epoch 00016: saving model to model_init_2022-06-1513_50_47.994374/model-00016-0.68443-0.78884-2.36589-0.22000.h5\n",
      "16/16 [==============================] - 67s 4s/step - loss: 0.6844 - categorical_accuracy: 0.7888 - val_loss: 2.3659 - val_categorical_accuracy: 0.2200 - lr: 1.6000e-06\n",
      "Epoch 17/20\n",
      "16/16 [==============================] - ETA: 0s - loss: 0.6778 - categorical_accuracy: 0.7979\n",
      "Epoch 00017: saving model to model_init_2022-06-1513_50_47.994374/model-00017-0.67779-0.79789-2.54925-0.17000.h5\n",
      "\n",
      "Epoch 00017: ReduceLROnPlateau reducing learning rate to 3.200000037395512e-07.\n",
      "16/16 [==============================] - 66s 4s/step - loss: 0.6778 - categorical_accuracy: 0.7979 - val_loss: 2.5492 - val_categorical_accuracy: 0.1700 - lr: 1.6000e-06\n",
      "Epoch 18/20\n",
      "16/16 [==============================] - ETA: 0s - loss: 0.7219 - categorical_accuracy: 0.7707\n",
      "Epoch 00018: saving model to model_init_2022-06-1513_50_47.994374/model-00018-0.72190-0.77074-2.32221-0.21000.h5\n",
      "16/16 [==============================] - 65s 4s/step - loss: 0.7219 - categorical_accuracy: 0.7707 - val_loss: 2.3222 - val_categorical_accuracy: 0.2100 - lr: 3.2000e-07\n",
      "Epoch 19/20\n",
      "16/16 [==============================] - ETA: 0s - loss: 0.6926 - categorical_accuracy: 0.8039\n",
      "Epoch 00019: saving model to model_init_2022-06-1513_50_47.994374/model-00019-0.69264-0.80392-2.27361-0.20000.h5\n",
      "16/16 [==============================] - 68s 4s/step - loss: 0.6926 - categorical_accuracy: 0.8039 - val_loss: 2.2736 - val_categorical_accuracy: 0.2000 - lr: 3.2000e-07\n",
      "Epoch 20/20\n",
      "16/16 [==============================] - ETA: 0s - loss: 0.6697 - categorical_accuracy: 0.8100\n",
      "Epoch 00020: saving model to model_init_2022-06-1513_50_47.994374/model-00020-0.66970-0.80995-2.35204-0.15000.h5\n",
      "16/16 [==============================] - 68s 4s/step - loss: 0.6697 - categorical_accuracy: 0.8100 - val_loss: 2.3520 - val_categorical_accuracy: 0.1500 - lr: 3.2000e-07\n"
     ]
    },
    {
     "data": {
      "text/plain": [
       "<keras.callbacks.History at 0x7fd5cc590a60>"
      ]
     },
     "execution_count": 16,
     "metadata": {},
     "output_type": "execute_result"
    }
   ],
   "source": [
    "# Fitting model 13\n",
    "model_13.fit_generator(train_generator, steps_per_epoch=steps_per_epoch, epochs=20, verbose=1,\n",
    "                    callbacks=callbacks_list, validation_data=val_generator,\n",
    "                    validation_steps=validation_steps, class_weight=None, workers=1, initial_epoch=0)"
   ]
  },
  {
   "cell_type": "code",
   "execution_count": 17,
   "metadata": {},
   "outputs": [
    {
     "data": {
      "image/png": "[encoded data removed]",
      "text/plain": [
       "<Figure size 1080x288 with 2 Axes>"
      ]
     },
     "metadata": {
      "needs_background": "light"
     },
     "output_type": "display_data"
    }
   ],
   "source": [
    "# Plotting the loss and accuracy\n",
    "plot(model_13.history)"
   ]
  },
  {
   "cell_type": "code",
   "execution_count": 20,
   "metadata": {},
   "outputs": [
    {
     "name": "stdout",
     "output_type": "stream",
     "text": [
      "WARNING:tensorflow:Layer lstm will not use cuDNN kernels since it doesn't meet the criteria. It will use a generic GPU kernel as fallback when running on GPU.\n"
     ]
    }
   ],
   "source": [
    "# Building model 13 using lstm\n",
    "frames = 20\n",
    "img_height = 140\n",
    "img_width = 140\n",
    "batch_size=20\n",
    "input_shape=(frames,img_height,img_width,3)\n",
    "model_14 = Sequential([\n",
    "                    (layers.TimeDistributed(Conv2D(32, (3,3),padding=\"same\", activation=\"relu\"),  \n",
    "                                                  input_shape=input_shape)),\n",
    "                    layers.TimeDistributed(BatchNormalization()),\n",
    "                    layers.TimeDistributed(MaxPooling2D(pool_size=(2,2))),\n",
    "    \n",
    "                    layers.TimeDistributed(Conv2D(32, (3,3),padding=\"same\", activation=\"relu\")),\n",
    "                    layers.TimeDistributed(BatchNormalization()),\n",
    "                    layers.TimeDistributed(MaxPooling2D(pool_size=(2,2))),\n",
    "    \n",
    "                    layers.TimeDistributed(Conv2D(32, (3,3),padding=\"same\", activation=\"relu\")),\n",
    "                    layers.TimeDistributed(BatchNormalization()),\n",
    "                    layers.TimeDistributed(MaxPooling2D(pool_size=(2,2))),\n",
    "    \n",
    "                    layers.TimeDistributed(Conv2D(32, (3,3),padding=\"same\", activation=\"relu\")),\n",
    "                    layers.TimeDistributed(BatchNormalization()),\n",
    "                    layers.TimeDistributed(MaxPooling2D(pool_size=(2,2))),\n",
    "\n",
    "                    layers.TimeDistributed(Flatten()),\n",
    "                    layers.LSTM(128, activation=\"relu\"),\n",
    "                    layers.BatchNormalization(),\n",
    "                    layers.Dropout(0.25),\n",
    "    \n",
    "                    layers.Dense(64, activation=\"relu\"),\n",
    "                    layers.BatchNormalization(),\n",
    "                    layers.Dropout(0.25),\n",
    "    \n",
    "                    layers.Dense(num_classes, activation=\"softmax\")\n",
    "])"
   ]
  },
  {
   "cell_type": "code",
   "execution_count": 21,
   "metadata": {},
   "outputs": [],
   "source": [
    "# Compiling the model\n",
    "optimiser = tf.keras.optimizers.Adam(lr=0.0002)\n",
    "model_14.compile(optimizer=optimiser, loss='categorical_crossentropy', metrics=['categorical_accuracy'])"
   ]
  },
  {
   "cell_type": "code",
   "execution_count": 22,
   "metadata": {},
   "outputs": [
    {
     "name": "stdout",
     "output_type": "stream",
     "text": [
      "Model: \"sequential_3\"\n",
      "_________________________________________________________________\n",
      " Layer (type)                Output Shape              Param #   \n",
      "=================================================================\n",
      " time_distributed_26 (TimeDi  (None, 20, 140, 140, 32)  896      \n",
      " stributed)                                                      \n",
      "                                                                 \n",
      " time_distributed_27 (TimeDi  (None, 20, 140, 140, 32)  128      \n",
      " stributed)                                                      \n",
      "                                                                 \n",
      " time_distributed_28 (TimeDi  (None, 20, 70, 70, 32)   0         \n",
      " stributed)                                                      \n",
      "                                                                 \n",
      " time_distributed_29 (TimeDi  (None, 20, 70, 70, 32)   9248      \n",
      " stributed)                                                      \n",
      "                                                                 \n",
      " time_distributed_30 (TimeDi  (None, 20, 70, 70, 32)   128       \n",
      " stributed)                                                      \n",
      "                                                                 \n",
      " time_distributed_31 (TimeDi  (None, 20, 35, 35, 32)   0         \n",
      " stributed)                                                      \n",
      "                                                                 \n",
      " time_distributed_32 (TimeDi  (None, 20, 35, 35, 32)   9248      \n",
      " stributed)                                                      \n",
      "                                                                 \n",
      " time_distributed_33 (TimeDi  (None, 20, 35, 35, 32)   128       \n",
      " stributed)                                                      \n",
      "                                                                 \n",
      " time_distributed_34 (TimeDi  (None, 20, 17, 17, 32)   0         \n",
      " stributed)                                                      \n",
      "                                                                 \n",
      " time_distributed_35 (TimeDi  (None, 20, 17, 17, 32)   9248      \n",
      " stributed)                                                      \n",
      "                                                                 \n",
      " time_distributed_36 (TimeDi  (None, 20, 17, 17, 32)   128       \n",
      " stributed)                                                      \n",
      "                                                                 \n",
      " time_distributed_37 (TimeDi  (None, 20, 8, 8, 32)     0         \n",
      " stributed)                                                      \n",
      "                                                                 \n",
      " time_distributed_38 (TimeDi  (None, 20, 2048)         0         \n",
      " stributed)                                                      \n",
      "                                                                 \n",
      " lstm (LSTM)                 (None, 128)               1114624   \n",
      "                                                                 \n",
      " batch_normalization_16 (Bat  (None, 128)              512       \n",
      " chNormalization)                                                \n",
      "                                                                 \n",
      " dropout_5 (Dropout)         (None, 128)               0         \n",
      "                                                                 \n",
      " dense_8 (Dense)             (None, 64)                8256      \n",
      "                                                                 \n",
      " batch_normalization_17 (Bat  (None, 64)               256       \n",
      " chNormalization)                                                \n",
      "                                                                 \n",
      " dropout_6 (Dropout)         (None, 64)                0         \n",
      "                                                                 \n",
      " dense_9 (Dense)             (None, 5)                 325       \n",
      "                                                                 \n",
      "=================================================================\n",
      "Total params: 1,153,125\n",
      "Trainable params: 1,152,485\n",
      "Non-trainable params: 640\n",
      "_________________________________________________________________\n"
     ]
    }
   ],
   "source": [
    "model_14.summary()"
   ]
  },
  {
   "cell_type": "code",
   "execution_count": 23,
   "metadata": {},
   "outputs": [
    {
     "name": "stdout",
     "output_type": "stream",
     "text": [
      "Epoch 1/20\n"
     ]
    },
    {
     "name": "stderr",
     "output_type": "stream",
     "text": [
      "2022-06-15 14:56:35.180937: I tensorflow/stream_executor/cuda/cuda_dnn.cc:377] Loaded cuDNN version 8302\n"
     ]
    },
    {
     "name": "stdout",
     "output_type": "stream",
     "text": [
      "16/16 [==============================] - ETA: 0s - loss: 2.2413 - categorical_accuracy: 0.2217source path =  datasets/Project_data/val ; batch size =  42\n",
      "\n",
      "Epoch 00001: saving model to model_init_2022-06-1514_54_47.034215/model-00001-2.24135-0.22172-1.60840-0.18000.h5\n",
      "16/16 [==============================] - 70s 4s/step - loss: 2.2413 - categorical_accuracy: 0.2217 - val_loss: 1.6084 - val_categorical_accuracy: 0.1800 - lr: 2.0000e-04\n",
      "Epoch 2/20\n",
      "16/16 [==============================] - ETA: 0s - loss: 1.8099 - categorical_accuracy: 0.3213\n",
      "Epoch 00002: saving model to model_init_2022-06-1514_54_47.034215/model-00002-1.80989-0.32127-1.61868-0.22000.h5\n",
      "16/16 [==============================] - 68s 4s/step - loss: 1.8099 - categorical_accuracy: 0.3213 - val_loss: 1.6187 - val_categorical_accuracy: 0.2200 - lr: 2.0000e-04\n",
      "Epoch 3/20\n",
      "16/16 [==============================] - ETA: 0s - loss: 1.5716 - categorical_accuracy: 0.3997\n",
      "Epoch 00003: saving model to model_init_2022-06-1514_54_47.034215/model-00003-1.57156-0.39970-1.63306-0.18000.h5\n",
      "16/16 [==============================] - 62s 4s/step - loss: 1.5716 - categorical_accuracy: 0.3997 - val_loss: 1.6331 - val_categorical_accuracy: 0.1800 - lr: 2.0000e-04\n",
      "Epoch 4/20\n",
      "16/16 [==============================] - ETA: 0s - loss: 1.4646 - categorical_accuracy: 0.4374\n",
      "Epoch 00004: saving model to model_init_2022-06-1514_54_47.034215/model-00004-1.46461-0.43741-1.64720-0.18000.h5\n",
      "16/16 [==============================] - 64s 4s/step - loss: 1.4646 - categorical_accuracy: 0.4374 - val_loss: 1.6472 - val_categorical_accuracy: 0.1800 - lr: 2.0000e-04\n",
      "Epoch 5/20\n",
      "16/16 [==============================] - ETA: 0s - loss: 1.3164 - categorical_accuracy: 0.5189\n",
      "Epoch 00005: saving model to model_init_2022-06-1514_54_47.034215/model-00005-1.31637-0.51885-1.66460-0.17000.h5\n",
      "\n",
      "Epoch 00005: ReduceLROnPlateau reducing learning rate to 3.9999998989515007e-05.\n",
      "16/16 [==============================] - 64s 4s/step - loss: 1.3164 - categorical_accuracy: 0.5189 - val_loss: 1.6646 - val_categorical_accuracy: 0.1700 - lr: 2.0000e-04\n",
      "Epoch 6/20\n",
      "16/16 [==============================] - ETA: 0s - loss: 1.2111 - categorical_accuracy: 0.5204\n",
      "Epoch 00006: saving model to model_init_2022-06-1514_54_47.034215/model-00006-1.21106-0.52036-1.65124-0.17000.h5\n",
      "16/16 [==============================] - 64s 4s/step - loss: 1.2111 - categorical_accuracy: 0.5204 - val_loss: 1.6512 - val_categorical_accuracy: 0.1700 - lr: 4.0000e-05\n",
      "Epoch 7/20\n",
      "16/16 [==============================] - ETA: 0s - loss: 1.1402 - categorical_accuracy: 0.5596\n",
      "Epoch 00007: saving model to model_init_2022-06-1514_54_47.034215/model-00007-1.14022-0.55958-1.66850-0.24000.h5\n",
      "16/16 [==============================] - 68s 5s/step - loss: 1.1402 - categorical_accuracy: 0.5596 - val_loss: 1.6685 - val_categorical_accuracy: 0.2400 - lr: 4.0000e-05\n",
      "Epoch 8/20\n",
      "16/16 [==============================] - ETA: 0s - loss: 1.0082 - categorical_accuracy: 0.5988\n",
      "Epoch 00008: saving model to model_init_2022-06-1514_54_47.034215/model-00008-1.00818-0.59879-1.72932-0.23000.h5\n",
      "16/16 [==============================] - 67s 4s/step - loss: 1.0082 - categorical_accuracy: 0.5988 - val_loss: 1.7293 - val_categorical_accuracy: 0.2300 - lr: 4.0000e-05\n",
      "Epoch 9/20\n",
      "16/16 [==============================] - ETA: 0s - loss: 1.1030 - categorical_accuracy: 0.5686\n",
      "Epoch 00009: saving model to model_init_2022-06-1514_54_47.034215/model-00009-1.10304-0.56863-1.69230-0.26000.h5\n",
      "\n",
      "Epoch 00009: ReduceLROnPlateau reducing learning rate to 7.999999797903002e-06.\n",
      "16/16 [==============================] - 66s 4s/step - loss: 1.1030 - categorical_accuracy: 0.5686 - val_loss: 1.6923 - val_categorical_accuracy: 0.2600 - lr: 4.0000e-05\n",
      "Epoch 10/20\n",
      "16/16 [==============================] - ETA: 0s - loss: 0.9861 - categorical_accuracy: 0.6471\n",
      "Epoch 00010: saving model to model_init_2022-06-1514_54_47.034215/model-00010-0.98611-0.64706-1.74845-0.22000.h5\n",
      "16/16 [==============================] - 67s 4s/step - loss: 0.9861 - categorical_accuracy: 0.6471 - val_loss: 1.7485 - val_categorical_accuracy: 0.2200 - lr: 8.0000e-06\n",
      "Epoch 11/20\n",
      "16/16 [==============================] - ETA: 0s - loss: 0.9832 - categorical_accuracy: 0.6516\n",
      "Epoch 00011: saving model to model_init_2022-06-1514_54_47.034215/model-00011-0.98316-0.65158-1.82325-0.23000.h5\n",
      "16/16 [==============================] - 70s 5s/step - loss: 0.9832 - categorical_accuracy: 0.6516 - val_loss: 1.8233 - val_categorical_accuracy: 0.2300 - lr: 8.0000e-06\n",
      "Epoch 12/20\n",
      "16/16 [==============================] - ETA: 0s - loss: 0.9850 - categorical_accuracy: 0.6199\n",
      "Epoch 00012: saving model to model_init_2022-06-1514_54_47.034215/model-00012-0.98498-0.61991-1.85139-0.24000.h5\n",
      "16/16 [==============================] - 67s 4s/step - loss: 0.9850 - categorical_accuracy: 0.6199 - val_loss: 1.8514 - val_categorical_accuracy: 0.2400 - lr: 8.0000e-06\n",
      "Epoch 13/20\n",
      "16/16 [==============================] - ETA: 0s - loss: 0.9778 - categorical_accuracy: 0.6456\n",
      "Epoch 00013: saving model to model_init_2022-06-1514_54_47.034215/model-00013-0.97777-0.64555-1.85022-0.24000.h5\n",
      "\n",
      "Epoch 00013: ReduceLROnPlateau reducing learning rate to 1.5999999959603884e-06.\n",
      "16/16 [==============================] - 67s 4s/step - loss: 0.9778 - categorical_accuracy: 0.6456 - val_loss: 1.8502 - val_categorical_accuracy: 0.2400 - lr: 8.0000e-06\n",
      "Epoch 14/20\n",
      "16/16 [==============================] - ETA: 0s - loss: 0.9405 - categorical_accuracy: 0.6214\n",
      "Epoch 00014: saving model to model_init_2022-06-1514_54_47.034215/model-00014-0.94048-0.62142-1.82438-0.25000.h5\n",
      "16/16 [==============================] - 68s 5s/step - loss: 0.9405 - categorical_accuracy: 0.6214 - val_loss: 1.8244 - val_categorical_accuracy: 0.2500 - lr: 1.6000e-06\n",
      "Epoch 15/20\n",
      "16/16 [==============================] - ETA: 0s - loss: 0.9578 - categorical_accuracy: 0.6561\n",
      "Epoch 00015: saving model to model_init_2022-06-1514_54_47.034215/model-00015-0.95781-0.65611-1.89250-0.28000.h5\n",
      "16/16 [==============================] - 64s 4s/step - loss: 0.9578 - categorical_accuracy: 0.6561 - val_loss: 1.8925 - val_categorical_accuracy: 0.2800 - lr: 1.6000e-06\n",
      "Epoch 16/20\n",
      "16/16 [==============================] - ETA: 0s - loss: 1.0145 - categorical_accuracy: 0.6139\n",
      "Epoch 00016: saving model to model_init_2022-06-1514_54_47.034215/model-00016-1.01454-0.61388-1.91083-0.28000.h5\n",
      "16/16 [==============================] - 69s 5s/step - loss: 1.0145 - categorical_accuracy: 0.6139 - val_loss: 1.9108 - val_categorical_accuracy: 0.2800 - lr: 1.6000e-06\n",
      "Epoch 17/20\n",
      "16/16 [==============================] - ETA: 0s - loss: 0.9907 - categorical_accuracy: 0.6169\n",
      "Epoch 00017: saving model to model_init_2022-06-1514_54_47.034215/model-00017-0.99070-0.61689-2.02356-0.26000.h5\n",
      "\n",
      "Epoch 00017: ReduceLROnPlateau reducing learning rate to 3.200000037395512e-07.\n",
      "16/16 [==============================] - 67s 4s/step - loss: 0.9907 - categorical_accuracy: 0.6169 - val_loss: 2.0236 - val_categorical_accuracy: 0.2600 - lr: 1.6000e-06\n",
      "Epoch 18/20\n",
      "16/16 [==============================] - ETA: 0s - loss: 0.9175 - categorical_accuracy: 0.6516\n",
      "Epoch 00018: saving model to model_init_2022-06-1514_54_47.034215/model-00018-0.91748-0.65158-1.90801-0.29000.h5\n",
      "16/16 [==============================] - 65s 4s/step - loss: 0.9175 - categorical_accuracy: 0.6516 - val_loss: 1.9080 - val_categorical_accuracy: 0.2900 - lr: 3.2000e-07\n",
      "Epoch 19/20\n",
      "16/16 [==============================] - ETA: 0s - loss: 0.9701 - categorical_accuracy: 0.6425\n",
      "Epoch 00019: saving model to model_init_2022-06-1514_54_47.034215/model-00019-0.97005-0.64253-1.86958-0.28000.h5\n",
      "16/16 [==============================] - 65s 4s/step - loss: 0.9701 - categorical_accuracy: 0.6425 - val_loss: 1.8696 - val_categorical_accuracy: 0.2800 - lr: 3.2000e-07\n",
      "Epoch 20/20\n",
      "16/16 [==============================] - ETA: 0s - loss: 0.9659 - categorical_accuracy: 0.6275\n",
      "Epoch 00020: saving model to model_init_2022-06-1514_54_47.034215/model-00020-0.96594-0.62745-1.88597-0.28000.h5\n",
      "16/16 [==============================] - 65s 4s/step - loss: 0.9659 - categorical_accuracy: 0.6275 - val_loss: 1.8860 - val_categorical_accuracy: 0.2800 - lr: 3.2000e-07\n"
     ]
    },
    {
     "data": {
      "text/plain": [
       "<keras.callbacks.History at 0x7fb010516610>"
      ]
     },
     "execution_count": 23,
     "metadata": {},
     "output_type": "execute_result"
    }
   ],
   "source": [
    "# Fitting model 14\n",
    "model_14.fit_generator(train_generator, steps_per_epoch=steps_per_epoch, epochs=20, verbose=1,\n",
    "                    callbacks=callbacks_list, validation_data=val_generator,\n",
    "                    validation_steps=validation_steps, class_weight=None, workers=1, initial_epoch=0)"
   ]
  },
  {
   "cell_type": "code",
   "execution_count": 24,
   "metadata": {},
   "outputs": [
    {
     "data": {
      "image/png": "[encoded data removed]",
      "text/plain": [
       "<Figure size 1080x288 with 2 Axes>"
      ]
     },
     "metadata": {
      "needs_background": "light"
     },
     "output_type": "display_data"
    }
   ],
   "source": [
    "plot(model_14.history)"
   ]
  },
  {
   "cell_type": "code",
   "execution_count": null,
   "metadata": {},
   "outputs": [],
   "source": []
  }
 ],
 "metadata": {
  "colab": {
   "collapsed_sections": [],
   "name": "Gesture_recognition_case_study",
   "provenance": [],
   "toc_visible": true
  },
  "kernelspec": {
   "display_name": "Python 3",
   "language": "python",
   "name": "python3"
  },
  "language_info": {
   "codemirror_mode": {
    "name": "ipython",
    "version": 3
   },
   "file_extension": ".py",
   "mimetype": "text/x-python",
   "name": "python",
   "nbconvert_exporter": "python",
   "pygments_lexer": "ipython3",
   "version": "3.8.8"
  }
 },
 "nbformat": 4,
 "nbformat_minor": 4
}
